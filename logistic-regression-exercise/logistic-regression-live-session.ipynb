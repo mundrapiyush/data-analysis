{
 "cells": [
  {
   "cell_type": "code",
   "execution_count": 299,
   "metadata": {},
   "outputs": [],
   "source": [
    "import numpy as np\n",
    "import pandas as pd\n",
    "import matplotlib.pyplot as plt\n",
    "import seaborn as sns\n",
    "import statsmodels.api as sm\n",
    "import sklearn\n",
    "from sklearn.model_selection import train_test_split\n",
    "from sklearn.preprocessing import MinMaxScaler\n",
    "from sklearn.feature_selection import RFE\n",
    "from sklearn.linear_model import LogisticRegression\n",
    "from statsmodels.stats.outliers_influence import variance_inflation_factor"
   ]
  },
  {
   "cell_type": "code",
   "execution_count": 300,
   "metadata": {},
   "outputs": [],
   "source": [
    "passengers = pd.read_csv('../datasets/titanic_dataset.csv')"
   ]
  },
  {
   "cell_type": "code",
   "execution_count": 301,
   "metadata": {},
   "outputs": [],
   "source": [
    "passengers.head()\n",
    "passengers = passengers.drop(['Cabin'], axis=1)"
   ]
  },
  {
   "cell_type": "code",
   "execution_count": 302,
   "metadata": {},
   "outputs": [],
   "source": [
    "median = passengers.Age.median()\n",
    "passengers.Age = passengers.Age.fillna(median)"
   ]
  },
  {
   "cell_type": "code",
   "execution_count": 303,
   "metadata": {},
   "outputs": [],
   "source": [
    "mode = passengers.Embarked.mode()\n",
    "passengers.Embarked = passengers.Embarked.fillna(mode)"
   ]
  },
  {
   "cell_type": "code",
   "execution_count": 304,
   "metadata": {},
   "outputs": [],
   "source": [
    "passengers = passengers.drop(['PassengerId','Name', 'Ticket'], axis=1)"
   ]
  },
  {
   "cell_type": "code",
   "execution_count": 305,
   "metadata": {},
   "outputs": [],
   "source": [
    "passengers.Sex = passengers.Sex.map({\"male\":0, \"female\":1})"
   ]
  },
  {
   "cell_type": "code",
   "execution_count": 306,
   "metadata": {},
   "outputs": [],
   "source": [
    "passengers = passengers.drop_duplicates()"
   ]
  },
  {
   "cell_type": "code",
   "execution_count": 307,
   "metadata": {},
   "outputs": [],
   "source": [
    "dummy_columns = [\"Pclass\", \"SibSp\", \"Parch\", \"Embarked\"]\n",
    "passengers[\"Pclass\"] = passengers[\"Pclass\"].astype(object)\n",
    "passengers[\"SibSp\"] = passengers[\"SibSp\"].astype(object)\n",
    "passengers[\"Parch\"] = passengers[\"Parch\"].astype(object)"
   ]
  },
  {
   "cell_type": "code",
   "execution_count": 308,
   "metadata": {},
   "outputs": [],
   "source": [
    "dummies = pd.get_dummies(passengers[dummy_columns], drop_first = True, dtype = int)\n",
    "passengers = pd.concat([passengers, dummies], axis = 1)"
   ]
  },
  {
   "cell_type": "code",
   "execution_count": 309,
   "metadata": {},
   "outputs": [],
   "source": [
    "passengers = passengers.drop(dummy_columns, axis = 1)"
   ]
  },
  {
   "cell_type": "code",
   "execution_count": 310,
   "metadata": {},
   "outputs": [],
   "source": [
    "X = passengers.drop(['Survived'], axis = 1)\n",
    "y = passengers.Survived"
   ]
  },
  {
   "cell_type": "code",
   "execution_count": 311,
   "metadata": {},
   "outputs": [],
   "source": [
    "X_train, X_test, y_train, y_test = train_test_split(X, y, test_size = 0.2, random_state = 100)"
   ]
  },
  {
   "cell_type": "code",
   "execution_count": 312,
   "metadata": {},
   "outputs": [
    {
     "name": "stdout",
     "output_type": "stream",
     "text": [
      "Train X Shape:  (620, 19)\n",
      "Test X Shape:  (155, 19)\n",
      "Train y Shape:  (620,)\n",
      "Test y Shape:  (155,)\n"
     ]
    }
   ],
   "source": [
    "print('Train X Shape: ', X_train.shape)\n",
    "print('Test X Shape: ', X_test.shape)\n",
    "print('Train y Shape: ', y_train.shape)\n",
    "print('Test y Shape: ', y_test.shape)"
   ]
  },
  {
   "cell_type": "code",
   "execution_count": 313,
   "metadata": {},
   "outputs": [],
   "source": [
    "scaler = MinMaxScaler()\n",
    "X_train_scaled = scaler.fit_transform(X_train)\n",
    "X_test_scaled = scaler.transform(X_test)"
   ]
  },
  {
   "cell_type": "code",
   "execution_count": 314,
   "metadata": {},
   "outputs": [],
   "source": [
    "X_train_scaled = pd.DataFrame(X_train_scaled, columns = X_train.columns)\n",
    "X_test_scaled = pd.DataFrame(X_test_scaled, columns = X_test.columns)"
   ]
  },
  {
   "cell_type": "code",
   "execution_count": 315,
   "metadata": {},
   "outputs": [
    {
     "name": "stdout",
     "output_type": "stream",
     "text": [
      "Train X Shape:  (620, 19)\n",
      "Test X Shape:  (155, 19)\n",
      "Train y Shape:  (620,)\n",
      "Test y Shape:  (155,)\n"
     ]
    }
   ],
   "source": [
    "print('Train X Shape: ', X_train.shape)\n",
    "print('Test X Shape: ', X_test.shape)\n",
    "print('Train y Shape: ', y_train.shape)\n",
    "print('Test y Shape: ', y_test.shape)"
   ]
  },
  {
   "cell_type": "code",
   "execution_count": 316,
   "metadata": {},
   "outputs": [],
   "source": [
    "estimator = LogisticRegression()\n",
    "selector = RFE(estimator, n_features_to_select=8)\n",
    "selector.fit(X_train_scaled, y_train)\n",
    "selected_cols = X_train_scaled.columns[selector.support_]"
   ]
  },
  {
   "cell_type": "code",
   "execution_count": 317,
   "metadata": {},
   "outputs": [],
   "source": [
    "X_train = X_train_scaled[selected_cols]\n",
    "X_test = X_test_scaled[selected_cols]"
   ]
  },
  {
   "cell_type": "code",
   "execution_count": 318,
   "metadata": {},
   "outputs": [
    {
     "name": "stdout",
     "output_type": "stream",
     "text": [
      "Train X Shape:  (620, 8)\n",
      "Test X Shape:  (155, 8)\n",
      "Train y Shape:  (620,)\n",
      "Test y Shape:  (155,)\n"
     ]
    }
   ],
   "source": [
    "print('Train X Shape: ', X_train.shape)\n",
    "print('Test X Shape: ', X_test.shape)\n",
    "print('Train y Shape: ', y_train.shape)\n",
    "print('Test y Shape: ', y_test.shape)"
   ]
  },
  {
   "cell_type": "code",
   "execution_count": 319,
   "metadata": {},
   "outputs": [
    {
     "data": {
      "text/html": [
       "<table class=\"simpletable\">\n",
       "<caption>Generalized Linear Model Regression Results</caption>\n",
       "<tr>\n",
       "  <th>Dep. Variable:</th>           <td>y</td>        <th>  No. Observations:  </th>  <td>   620</td> \n",
       "</tr>\n",
       "<tr>\n",
       "  <th>Model:</th>                  <td>GLM</td>       <th>  Df Residuals:      </th>  <td>   611</td> \n",
       "</tr>\n",
       "<tr>\n",
       "  <th>Model Family:</th>        <td>Binomial</td>     <th>  Df Model:          </th>  <td>     8</td> \n",
       "</tr>\n",
       "<tr>\n",
       "  <th>Link Function:</th>         <td>Logit</td>      <th>  Scale:             </th> <td>  1.0000</td>\n",
       "</tr>\n",
       "<tr>\n",
       "  <th>Method:</th>                <td>IRLS</td>       <th>  Log-Likelihood:    </th> <td> -283.84</td>\n",
       "</tr>\n",
       "<tr>\n",
       "  <th>Date:</th>            <td>Sun, 01 Sep 2024</td> <th>  Deviance:          </th> <td>  567.69</td>\n",
       "</tr>\n",
       "<tr>\n",
       "  <th>Time:</th>                <td>22:43:51</td>     <th>  Pearson chi2:      </th>  <td>  650.</td> \n",
       "</tr>\n",
       "<tr>\n",
       "  <th>No. Iterations:</th>         <td>21</td>        <th>  Pseudo R-squ. (CS):</th>  <td>0.3514</td> \n",
       "</tr>\n",
       "<tr>\n",
       "  <th>Covariance Type:</th>     <td>nonrobust</td>    <th>                     </th>     <td> </td>   \n",
       "</tr>\n",
       "</table>\n",
       "<table class=\"simpletable\">\n",
       "<tr>\n",
       "      <td></td>        <th>coef</th>     <th>std err</th>      <th>z</th>      <th>P>|z|</th>  <th>[0.025</th>    <th>0.975]</th>  \n",
       "</tr>\n",
       "<tr>\n",
       "  <th>const</th>    <td>    1.4294</td> <td>    0.400</td> <td>    3.571</td> <td> 0.000</td> <td>    0.645</td> <td>    2.214</td>\n",
       "</tr>\n",
       "<tr>\n",
       "  <th>Sex</th>      <td>    2.5259</td> <td>    0.223</td> <td>   11.319</td> <td> 0.000</td> <td>    2.089</td> <td>    2.963</td>\n",
       "</tr>\n",
       "<tr>\n",
       "  <th>Age</th>      <td>   -3.7285</td> <td>    0.727</td> <td>   -5.130</td> <td> 0.000</td> <td>   -5.153</td> <td>   -2.304</td>\n",
       "</tr>\n",
       "<tr>\n",
       "  <th>Pclass_2</th> <td>   -1.0576</td> <td>    0.303</td> <td>   -3.489</td> <td> 0.000</td> <td>   -1.652</td> <td>   -0.463</td>\n",
       "</tr>\n",
       "<tr>\n",
       "  <th>Pclass_3</th> <td>   -2.2601</td> <td>    0.289</td> <td>   -7.832</td> <td> 0.000</td> <td>   -2.826</td> <td>   -1.695</td>\n",
       "</tr>\n",
       "<tr>\n",
       "  <th>SibSp_3</th>  <td>   -2.1711</td> <td>    0.960</td> <td>   -2.261</td> <td> 0.024</td> <td>   -4.054</td> <td>   -0.289</td>\n",
       "</tr>\n",
       "<tr>\n",
       "  <th>SibSp_4</th>  <td>   -1.7191</td> <td>    0.750</td> <td>   -2.292</td> <td> 0.022</td> <td>   -3.189</td> <td>   -0.249</td>\n",
       "</tr>\n",
       "<tr>\n",
       "  <th>SibSp_5</th>  <td>  -22.0974</td> <td> 1.95e+04</td> <td>   -0.001</td> <td> 0.999</td> <td>-3.82e+04</td> <td> 3.81e+04</td>\n",
       "</tr>\n",
       "<tr>\n",
       "  <th>Parch_5</th>  <td>  -21.8008</td> <td> 2.41e+04</td> <td>   -0.001</td> <td> 0.999</td> <td>-4.73e+04</td> <td> 4.72e+04</td>\n",
       "</tr>\n",
       "</table>"
      ],
      "text/latex": [
       "\\begin{center}\n",
       "\\begin{tabular}{lclc}\n",
       "\\toprule\n",
       "\\textbf{Dep. Variable:}   &        y         & \\textbf{  No. Observations:  } &      620    \\\\\n",
       "\\textbf{Model:}           &       GLM        & \\textbf{  Df Residuals:      } &      611    \\\\\n",
       "\\textbf{Model Family:}    &     Binomial     & \\textbf{  Df Model:          } &        8    \\\\\n",
       "\\textbf{Link Function:}   &      Logit       & \\textbf{  Scale:             } &    1.0000   \\\\\n",
       "\\textbf{Method:}          &       IRLS       & \\textbf{  Log-Likelihood:    } &   -283.84   \\\\\n",
       "\\textbf{Date:}            & Sun, 01 Sep 2024 & \\textbf{  Deviance:          } &    567.69   \\\\\n",
       "\\textbf{Time:}            &     22:43:51     & \\textbf{  Pearson chi2:      } &     650.    \\\\\n",
       "\\textbf{No. Iterations:}  &        21        & \\textbf{  Pseudo R-squ. (CS):} &   0.3514    \\\\\n",
       "\\textbf{Covariance Type:} &    nonrobust     & \\textbf{                     } &             \\\\\n",
       "\\bottomrule\n",
       "\\end{tabular}\n",
       "\\begin{tabular}{lcccccc}\n",
       "                   & \\textbf{coef} & \\textbf{std err} & \\textbf{z} & \\textbf{P$> |$z$|$} & \\textbf{[0.025} & \\textbf{0.975]}  \\\\\n",
       "\\midrule\n",
       "\\textbf{const}     &       1.4294  &        0.400     &     3.571  &         0.000        &        0.645    &        2.214     \\\\\n",
       "\\textbf{Sex}       &       2.5259  &        0.223     &    11.319  &         0.000        &        2.089    &        2.963     \\\\\n",
       "\\textbf{Age}       &      -3.7285  &        0.727     &    -5.130  &         0.000        &       -5.153    &       -2.304     \\\\\n",
       "\\textbf{Pclass\\_2} &      -1.0576  &        0.303     &    -3.489  &         0.000        &       -1.652    &       -0.463     \\\\\n",
       "\\textbf{Pclass\\_3} &      -2.2601  &        0.289     &    -7.832  &         0.000        &       -2.826    &       -1.695     \\\\\n",
       "\\textbf{SibSp\\_3}  &      -2.1711  &        0.960     &    -2.261  &         0.024        &       -4.054    &       -0.289     \\\\\n",
       "\\textbf{SibSp\\_4}  &      -1.7191  &        0.750     &    -2.292  &         0.022        &       -3.189    &       -0.249     \\\\\n",
       "\\textbf{SibSp\\_5}  &     -22.0974  &     1.95e+04     &    -0.001  &         0.999        &    -3.82e+04    &     3.81e+04     \\\\\n",
       "\\textbf{Parch\\_5}  &     -21.8008  &     2.41e+04     &    -0.001  &         0.999        &    -4.73e+04    &     4.72e+04     \\\\\n",
       "\\bottomrule\n",
       "\\end{tabular}\n",
       "%\\caption{Generalized Linear Model Regression Results}\n",
       "\\end{center}"
      ],
      "text/plain": [
       "<class 'statsmodels.iolib.summary.Summary'>\n",
       "\"\"\"\n",
       "                 Generalized Linear Model Regression Results                  \n",
       "==============================================================================\n",
       "Dep. Variable:                      y   No. Observations:                  620\n",
       "Model:                            GLM   Df Residuals:                      611\n",
       "Model Family:                Binomial   Df Model:                            8\n",
       "Link Function:                  Logit   Scale:                          1.0000\n",
       "Method:                          IRLS   Log-Likelihood:                -283.84\n",
       "Date:                Sun, 01 Sep 2024   Deviance:                       567.69\n",
       "Time:                        22:43:51   Pearson chi2:                     650.\n",
       "No. Iterations:                    21   Pseudo R-squ. (CS):             0.3514\n",
       "Covariance Type:            nonrobust                                         \n",
       "==============================================================================\n",
       "                 coef    std err          z      P>|z|      [0.025      0.975]\n",
       "------------------------------------------------------------------------------\n",
       "const          1.4294      0.400      3.571      0.000       0.645       2.214\n",
       "Sex            2.5259      0.223     11.319      0.000       2.089       2.963\n",
       "Age           -3.7285      0.727     -5.130      0.000      -5.153      -2.304\n",
       "Pclass_2      -1.0576      0.303     -3.489      0.000      -1.652      -0.463\n",
       "Pclass_3      -2.2601      0.289     -7.832      0.000      -2.826      -1.695\n",
       "SibSp_3       -2.1711      0.960     -2.261      0.024      -4.054      -0.289\n",
       "SibSp_4       -1.7191      0.750     -2.292      0.022      -3.189      -0.249\n",
       "SibSp_5      -22.0974   1.95e+04     -0.001      0.999   -3.82e+04    3.81e+04\n",
       "Parch_5      -21.8008   2.41e+04     -0.001      0.999   -4.73e+04    4.72e+04\n",
       "==============================================================================\n",
       "\"\"\""
      ]
     },
     "execution_count": 319,
     "metadata": {},
     "output_type": "execute_result"
    }
   ],
   "source": [
    "X_train_sm = sm.add_constant(X_train, has_constant=\"add\")\n",
    "X_test_sm = sm.add_constant(X_test, has_constant=\"add\")\n",
    "\n",
    "model1 = sm.GLM(np.array(y_train),X_train_sm,family=sm.families.Binomial())\n",
    "result = model1.fit()\n",
    "result.summary()"
   ]
  },
  {
   "cell_type": "code",
   "execution_count": 320,
   "metadata": {},
   "outputs": [
    {
     "data": {
      "text/html": [
       "<table class=\"simpletable\">\n",
       "<caption>Generalized Linear Model Regression Results</caption>\n",
       "<tr>\n",
       "  <th>Dep. Variable:</th>           <td>y</td>        <th>  No. Observations:  </th>  <td>   620</td> \n",
       "</tr>\n",
       "<tr>\n",
       "  <th>Model:</th>                  <td>GLM</td>       <th>  Df Residuals:      </th>  <td>   612</td> \n",
       "</tr>\n",
       "<tr>\n",
       "  <th>Model Family:</th>        <td>Binomial</td>     <th>  Df Model:          </th>  <td>     7</td> \n",
       "</tr>\n",
       "<tr>\n",
       "  <th>Link Function:</th>         <td>Logit</td>      <th>  Scale:             </th> <td>  1.0000</td>\n",
       "</tr>\n",
       "<tr>\n",
       "  <th>Method:</th>                <td>IRLS</td>       <th>  Log-Likelihood:    </th> <td> -285.17</td>\n",
       "</tr>\n",
       "<tr>\n",
       "  <th>Date:</th>            <td>Sun, 01 Sep 2024</td> <th>  Deviance:          </th> <td>  570.33</td>\n",
       "</tr>\n",
       "<tr>\n",
       "  <th>Time:</th>                <td>22:43:51</td>     <th>  Pearson chi2:      </th>  <td>  657.</td> \n",
       "</tr>\n",
       "<tr>\n",
       "  <th>No. Iterations:</th>         <td>20</td>        <th>  Pseudo R-squ. (CS):</th>  <td>0.3486</td> \n",
       "</tr>\n",
       "<tr>\n",
       "  <th>Covariance Type:</th>     <td>nonrobust</td>    <th>                     </th>     <td> </td>   \n",
       "</tr>\n",
       "</table>\n",
       "<table class=\"simpletable\">\n",
       "<tr>\n",
       "      <td></td>        <th>coef</th>     <th>std err</th>      <th>z</th>      <th>P>|z|</th>  <th>[0.025</th>    <th>0.975]</th>  \n",
       "</tr>\n",
       "<tr>\n",
       "  <th>const</th>    <td>    1.4744</td> <td>    0.400</td> <td>    3.687</td> <td> 0.000</td> <td>    0.691</td> <td>    2.258</td>\n",
       "</tr>\n",
       "<tr>\n",
       "  <th>Sex</th>      <td>    2.5073</td> <td>    0.222</td> <td>   11.273</td> <td> 0.000</td> <td>    2.071</td> <td>    2.943</td>\n",
       "</tr>\n",
       "<tr>\n",
       "  <th>Age</th>      <td>   -3.8134</td> <td>    0.727</td> <td>   -5.249</td> <td> 0.000</td> <td>   -5.237</td> <td>   -2.389</td>\n",
       "</tr>\n",
       "<tr>\n",
       "  <th>Pclass_2</th> <td>   -1.0654</td> <td>    0.303</td> <td>   -3.516</td> <td> 0.000</td> <td>   -1.659</td> <td>   -0.471</td>\n",
       "</tr>\n",
       "<tr>\n",
       "  <th>Pclass_3</th> <td>   -2.2938</td> <td>    0.288</td> <td>   -7.960</td> <td> 0.000</td> <td>   -2.859</td> <td>   -1.729</td>\n",
       "</tr>\n",
       "<tr>\n",
       "  <th>SibSp_3</th>  <td>   -2.1687</td> <td>    0.960</td> <td>   -2.259</td> <td> 0.024</td> <td>   -4.050</td> <td>   -0.287</td>\n",
       "</tr>\n",
       "<tr>\n",
       "  <th>SibSp_4</th>  <td>   -1.7095</td> <td>    0.749</td> <td>   -2.282</td> <td> 0.022</td> <td>   -3.178</td> <td>   -0.241</td>\n",
       "</tr>\n",
       "<tr>\n",
       "  <th>SibSp_5</th>  <td>  -21.0853</td> <td> 1.18e+04</td> <td>   -0.002</td> <td> 0.999</td> <td>-2.32e+04</td> <td> 2.32e+04</td>\n",
       "</tr>\n",
       "</table>"
      ],
      "text/latex": [
       "\\begin{center}\n",
       "\\begin{tabular}{lclc}\n",
       "\\toprule\n",
       "\\textbf{Dep. Variable:}   &        y         & \\textbf{  No. Observations:  } &      620    \\\\\n",
       "\\textbf{Model:}           &       GLM        & \\textbf{  Df Residuals:      } &      612    \\\\\n",
       "\\textbf{Model Family:}    &     Binomial     & \\textbf{  Df Model:          } &        7    \\\\\n",
       "\\textbf{Link Function:}   &      Logit       & \\textbf{  Scale:             } &    1.0000   \\\\\n",
       "\\textbf{Method:}          &       IRLS       & \\textbf{  Log-Likelihood:    } &   -285.17   \\\\\n",
       "\\textbf{Date:}            & Sun, 01 Sep 2024 & \\textbf{  Deviance:          } &    570.33   \\\\\n",
       "\\textbf{Time:}            &     22:43:51     & \\textbf{  Pearson chi2:      } &     657.    \\\\\n",
       "\\textbf{No. Iterations:}  &        20        & \\textbf{  Pseudo R-squ. (CS):} &   0.3486    \\\\\n",
       "\\textbf{Covariance Type:} &    nonrobust     & \\textbf{                     } &             \\\\\n",
       "\\bottomrule\n",
       "\\end{tabular}\n",
       "\\begin{tabular}{lcccccc}\n",
       "                   & \\textbf{coef} & \\textbf{std err} & \\textbf{z} & \\textbf{P$> |$z$|$} & \\textbf{[0.025} & \\textbf{0.975]}  \\\\\n",
       "\\midrule\n",
       "\\textbf{const}     &       1.4744  &        0.400     &     3.687  &         0.000        &        0.691    &        2.258     \\\\\n",
       "\\textbf{Sex}       &       2.5073  &        0.222     &    11.273  &         0.000        &        2.071    &        2.943     \\\\\n",
       "\\textbf{Age}       &      -3.8134  &        0.727     &    -5.249  &         0.000        &       -5.237    &       -2.389     \\\\\n",
       "\\textbf{Pclass\\_2} &      -1.0654  &        0.303     &    -3.516  &         0.000        &       -1.659    &       -0.471     \\\\\n",
       "\\textbf{Pclass\\_3} &      -2.2938  &        0.288     &    -7.960  &         0.000        &       -2.859    &       -1.729     \\\\\n",
       "\\textbf{SibSp\\_3}  &      -2.1687  &        0.960     &    -2.259  &         0.024        &       -4.050    &       -0.287     \\\\\n",
       "\\textbf{SibSp\\_4}  &      -1.7095  &        0.749     &    -2.282  &         0.022        &       -3.178    &       -0.241     \\\\\n",
       "\\textbf{SibSp\\_5}  &     -21.0853  &     1.18e+04     &    -0.002  &         0.999        &    -2.32e+04    &     2.32e+04     \\\\\n",
       "\\bottomrule\n",
       "\\end{tabular}\n",
       "%\\caption{Generalized Linear Model Regression Results}\n",
       "\\end{center}"
      ],
      "text/plain": [
       "<class 'statsmodels.iolib.summary.Summary'>\n",
       "\"\"\"\n",
       "                 Generalized Linear Model Regression Results                  \n",
       "==============================================================================\n",
       "Dep. Variable:                      y   No. Observations:                  620\n",
       "Model:                            GLM   Df Residuals:                      612\n",
       "Model Family:                Binomial   Df Model:                            7\n",
       "Link Function:                  Logit   Scale:                          1.0000\n",
       "Method:                          IRLS   Log-Likelihood:                -285.17\n",
       "Date:                Sun, 01 Sep 2024   Deviance:                       570.33\n",
       "Time:                        22:43:51   Pearson chi2:                     657.\n",
       "No. Iterations:                    20   Pseudo R-squ. (CS):             0.3486\n",
       "Covariance Type:            nonrobust                                         \n",
       "==============================================================================\n",
       "                 coef    std err          z      P>|z|      [0.025      0.975]\n",
       "------------------------------------------------------------------------------\n",
       "const          1.4744      0.400      3.687      0.000       0.691       2.258\n",
       "Sex            2.5073      0.222     11.273      0.000       2.071       2.943\n",
       "Age           -3.8134      0.727     -5.249      0.000      -5.237      -2.389\n",
       "Pclass_2      -1.0654      0.303     -3.516      0.000      -1.659      -0.471\n",
       "Pclass_3      -2.2938      0.288     -7.960      0.000      -2.859      -1.729\n",
       "SibSp_3       -2.1687      0.960     -2.259      0.024      -4.050      -0.287\n",
       "SibSp_4       -1.7095      0.749     -2.282      0.022      -3.178      -0.241\n",
       "SibSp_5      -21.0853   1.18e+04     -0.002      0.999   -2.32e+04    2.32e+04\n",
       "==============================================================================\n",
       "\"\"\""
      ]
     },
     "execution_count": 320,
     "metadata": {},
     "output_type": "execute_result"
    }
   ],
   "source": [
    "X_train_sm = X_train_sm.drop(['Parch_5'], axis = 1)\n",
    "X_test_sm = X_test_sm.drop(['Parch_5'], axis = 1)\n",
    "\n",
    "model2 = sm.GLM(np.array(y_train),X_train_sm,family=sm.families.Binomial())\n",
    "result = model2.fit()\n",
    "result.summary()"
   ]
  },
  {
   "cell_type": "code",
   "execution_count": 321,
   "metadata": {},
   "outputs": [
    {
     "data": {
      "text/html": [
       "<table class=\"simpletable\">\n",
       "<caption>Generalized Linear Model Regression Results</caption>\n",
       "<tr>\n",
       "  <th>Dep. Variable:</th>           <td>y</td>        <th>  No. Observations:  </th>  <td>   620</td> \n",
       "</tr>\n",
       "<tr>\n",
       "  <th>Model:</th>                  <td>GLM</td>       <th>  Df Residuals:      </th>  <td>   613</td> \n",
       "</tr>\n",
       "<tr>\n",
       "  <th>Model Family:</th>        <td>Binomial</td>     <th>  Df Model:          </th>  <td>     6</td> \n",
       "</tr>\n",
       "<tr>\n",
       "  <th>Link Function:</th>         <td>Logit</td>      <th>  Scale:             </th> <td>  1.0000</td>\n",
       "</tr>\n",
       "<tr>\n",
       "  <th>Method:</th>                <td>IRLS</td>       <th>  Log-Likelihood:    </th> <td> -287.44</td>\n",
       "</tr>\n",
       "<tr>\n",
       "  <th>Date:</th>            <td>Sun, 01 Sep 2024</td> <th>  Deviance:          </th> <td>  574.88</td>\n",
       "</tr>\n",
       "<tr>\n",
       "  <th>Time:</th>                <td>22:43:51</td>     <th>  Pearson chi2:      </th>  <td>  661.</td> \n",
       "</tr>\n",
       "<tr>\n",
       "  <th>No. Iterations:</th>          <td>5</td>        <th>  Pseudo R-squ. (CS):</th>  <td>0.3439</td> \n",
       "</tr>\n",
       "<tr>\n",
       "  <th>Covariance Type:</th>     <td>nonrobust</td>    <th>                     </th>     <td> </td>   \n",
       "</tr>\n",
       "</table>\n",
       "<table class=\"simpletable\">\n",
       "<tr>\n",
       "      <td></td>        <th>coef</th>     <th>std err</th>      <th>z</th>      <th>P>|z|</th>  <th>[0.025</th>    <th>0.975]</th>  \n",
       "</tr>\n",
       "<tr>\n",
       "  <th>const</th>    <td>    1.4062</td> <td>    0.395</td> <td>    3.557</td> <td> 0.000</td> <td>    0.631</td> <td>    2.181</td>\n",
       "</tr>\n",
       "<tr>\n",
       "  <th>Sex</th>      <td>    2.5076</td> <td>    0.222</td> <td>   11.317</td> <td> 0.000</td> <td>    2.073</td> <td>    2.942</td>\n",
       "</tr>\n",
       "<tr>\n",
       "  <th>Age</th>      <td>   -3.6727</td> <td>    0.716</td> <td>   -5.126</td> <td> 0.000</td> <td>   -5.077</td> <td>   -2.269</td>\n",
       "</tr>\n",
       "<tr>\n",
       "  <th>Pclass_2</th> <td>   -1.0485</td> <td>    0.302</td> <td>   -3.471</td> <td> 0.001</td> <td>   -1.641</td> <td>   -0.456</td>\n",
       "</tr>\n",
       "<tr>\n",
       "  <th>Pclass_3</th> <td>   -2.3080</td> <td>    0.288</td> <td>   -8.012</td> <td> 0.000</td> <td>   -2.873</td> <td>   -1.743</td>\n",
       "</tr>\n",
       "<tr>\n",
       "  <th>SibSp_3</th>  <td>   -2.1217</td> <td>    0.960</td> <td>   -2.209</td> <td> 0.027</td> <td>   -4.004</td> <td>   -0.239</td>\n",
       "</tr>\n",
       "<tr>\n",
       "  <th>SibSp_4</th>  <td>   -1.6395</td> <td>    0.748</td> <td>   -2.193</td> <td> 0.028</td> <td>   -3.105</td> <td>   -0.174</td>\n",
       "</tr>\n",
       "</table>"
      ],
      "text/latex": [
       "\\begin{center}\n",
       "\\begin{tabular}{lclc}\n",
       "\\toprule\n",
       "\\textbf{Dep. Variable:}   &        y         & \\textbf{  No. Observations:  } &      620    \\\\\n",
       "\\textbf{Model:}           &       GLM        & \\textbf{  Df Residuals:      } &      613    \\\\\n",
       "\\textbf{Model Family:}    &     Binomial     & \\textbf{  Df Model:          } &        6    \\\\\n",
       "\\textbf{Link Function:}   &      Logit       & \\textbf{  Scale:             } &    1.0000   \\\\\n",
       "\\textbf{Method:}          &       IRLS       & \\textbf{  Log-Likelihood:    } &   -287.44   \\\\\n",
       "\\textbf{Date:}            & Sun, 01 Sep 2024 & \\textbf{  Deviance:          } &    574.88   \\\\\n",
       "\\textbf{Time:}            &     22:43:51     & \\textbf{  Pearson chi2:      } &     661.    \\\\\n",
       "\\textbf{No. Iterations:}  &        5         & \\textbf{  Pseudo R-squ. (CS):} &   0.3439    \\\\\n",
       "\\textbf{Covariance Type:} &    nonrobust     & \\textbf{                     } &             \\\\\n",
       "\\bottomrule\n",
       "\\end{tabular}\n",
       "\\begin{tabular}{lcccccc}\n",
       "                   & \\textbf{coef} & \\textbf{std err} & \\textbf{z} & \\textbf{P$> |$z$|$} & \\textbf{[0.025} & \\textbf{0.975]}  \\\\\n",
       "\\midrule\n",
       "\\textbf{const}     &       1.4062  &        0.395     &     3.557  &         0.000        &        0.631    &        2.181     \\\\\n",
       "\\textbf{Sex}       &       2.5076  &        0.222     &    11.317  &         0.000        &        2.073    &        2.942     \\\\\n",
       "\\textbf{Age}       &      -3.6727  &        0.716     &    -5.126  &         0.000        &       -5.077    &       -2.269     \\\\\n",
       "\\textbf{Pclass\\_2} &      -1.0485  &        0.302     &    -3.471  &         0.001        &       -1.641    &       -0.456     \\\\\n",
       "\\textbf{Pclass\\_3} &      -2.3080  &        0.288     &    -8.012  &         0.000        &       -2.873    &       -1.743     \\\\\n",
       "\\textbf{SibSp\\_3}  &      -2.1217  &        0.960     &    -2.209  &         0.027        &       -4.004    &       -0.239     \\\\\n",
       "\\textbf{SibSp\\_4}  &      -1.6395  &        0.748     &    -2.193  &         0.028        &       -3.105    &       -0.174     \\\\\n",
       "\\bottomrule\n",
       "\\end{tabular}\n",
       "%\\caption{Generalized Linear Model Regression Results}\n",
       "\\end{center}"
      ],
      "text/plain": [
       "<class 'statsmodels.iolib.summary.Summary'>\n",
       "\"\"\"\n",
       "                 Generalized Linear Model Regression Results                  \n",
       "==============================================================================\n",
       "Dep. Variable:                      y   No. Observations:                  620\n",
       "Model:                            GLM   Df Residuals:                      613\n",
       "Model Family:                Binomial   Df Model:                            6\n",
       "Link Function:                  Logit   Scale:                          1.0000\n",
       "Method:                          IRLS   Log-Likelihood:                -287.44\n",
       "Date:                Sun, 01 Sep 2024   Deviance:                       574.88\n",
       "Time:                        22:43:51   Pearson chi2:                     661.\n",
       "No. Iterations:                     5   Pseudo R-squ. (CS):             0.3439\n",
       "Covariance Type:            nonrobust                                         \n",
       "==============================================================================\n",
       "                 coef    std err          z      P>|z|      [0.025      0.975]\n",
       "------------------------------------------------------------------------------\n",
       "const          1.4062      0.395      3.557      0.000       0.631       2.181\n",
       "Sex            2.5076      0.222     11.317      0.000       2.073       2.942\n",
       "Age           -3.6727      0.716     -5.126      0.000      -5.077      -2.269\n",
       "Pclass_2      -1.0485      0.302     -3.471      0.001      -1.641      -0.456\n",
       "Pclass_3      -2.3080      0.288     -8.012      0.000      -2.873      -1.743\n",
       "SibSp_3       -2.1217      0.960     -2.209      0.027      -4.004      -0.239\n",
       "SibSp_4       -1.6395      0.748     -2.193      0.028      -3.105      -0.174\n",
       "==============================================================================\n",
       "\"\"\""
      ]
     },
     "execution_count": 321,
     "metadata": {},
     "output_type": "execute_result"
    }
   ],
   "source": [
    "X_train_sm = X_train_sm.drop(['SibSp_5'], axis = 1)\n",
    "X_test_sm = X_test_sm.drop(['SibSp_5'], axis = 1)\n",
    "\n",
    "model3 = sm.GLM(np.array(y_train),X_train_sm,family=sm.families.Binomial())\n",
    "result = model3.fit()\n",
    "result.summary()"
   ]
  },
  {
   "cell_type": "code",
   "execution_count": 322,
   "metadata": {},
   "outputs": [
    {
     "data": {
      "text/html": [
       "<div>\n",
       "<style scoped>\n",
       "    .dataframe tbody tr th:only-of-type {\n",
       "        vertical-align: middle;\n",
       "    }\n",
       "\n",
       "    .dataframe tbody tr th {\n",
       "        vertical-align: top;\n",
       "    }\n",
       "\n",
       "    .dataframe thead th {\n",
       "        text-align: right;\n",
       "    }\n",
       "</style>\n",
       "<table border=\"1\" class=\"dataframe\">\n",
       "  <thead>\n",
       "    <tr style=\"text-align: right;\">\n",
       "      <th></th>\n",
       "      <th>Feature</th>\n",
       "      <th>VIF</th>\n",
       "    </tr>\n",
       "  </thead>\n",
       "  <tbody>\n",
       "    <tr>\n",
       "      <th>0</th>\n",
       "      <td>const</td>\n",
       "      <td>14.74</td>\n",
       "    </tr>\n",
       "    <tr>\n",
       "      <th>4</th>\n",
       "      <td>Pclass_3</td>\n",
       "      <td>1.70</td>\n",
       "    </tr>\n",
       "    <tr>\n",
       "      <th>3</th>\n",
       "      <td>Pclass_2</td>\n",
       "      <td>1.50</td>\n",
       "    </tr>\n",
       "    <tr>\n",
       "      <th>2</th>\n",
       "      <td>Age</td>\n",
       "      <td>1.28</td>\n",
       "    </tr>\n",
       "    <tr>\n",
       "      <th>6</th>\n",
       "      <td>SibSp_4</td>\n",
       "      <td>1.09</td>\n",
       "    </tr>\n",
       "    <tr>\n",
       "      <th>1</th>\n",
       "      <td>Sex</td>\n",
       "      <td>1.03</td>\n",
       "    </tr>\n",
       "    <tr>\n",
       "      <th>5</th>\n",
       "      <td>SibSp_3</td>\n",
       "      <td>1.02</td>\n",
       "    </tr>\n",
       "  </tbody>\n",
       "</table>\n",
       "</div>"
      ],
      "text/plain": [
       "    Feature    VIF\n",
       "0     const  14.74\n",
       "4  Pclass_3   1.70\n",
       "3  Pclass_2   1.50\n",
       "2       Age   1.28\n",
       "6   SibSp_4   1.09\n",
       "1       Sex   1.03\n",
       "5   SibSp_3   1.02"
      ]
     },
     "execution_count": 322,
     "metadata": {},
     "output_type": "execute_result"
    }
   ],
   "source": [
    "vif = pd.DataFrame()\n",
    "vif[\"Feature\"] = X_train_sm.columns\n",
    "vif['VIF'] = [variance_inflation_factor(X_train_sm, i) for i in range(X_train_sm.shape[1])]\n",
    "vif['VIF'] = round(vif['VIF'], 2)\n",
    "vif = vif.sort_values(by= 'VIF', ascending=False)\n",
    "vif"
   ]
  },
  {
   "cell_type": "code",
   "execution_count": 325,
   "metadata": {},
   "outputs": [],
   "source": [
    "y_pred_train = result.predict(X_train_sm)\n",
    "y_pred_test = result.predict(X_test_sm)"
   ]
  },
  {
   "cell_type": "code",
   "execution_count": 329,
   "metadata": {},
   "outputs": [
    {
     "ename": "ValueError",
     "evalue": "either both or neither of x and y should be given",
     "output_type": "error",
     "traceback": [
      "\u001b[0;31m---------------------------------------------------------------------------\u001b[0m",
      "\u001b[0;31mValueError\u001b[0m                                Traceback (most recent call last)",
      "Cell \u001b[0;32mIn[329], line 4\u001b[0m\n\u001b[1;32m      2\u001b[0m train \u001b[38;5;241m=\u001b[39m pd\u001b[38;5;241m.\u001b[39mDataFrame(y_pred_train, columns\u001b[38;5;241m=\u001b[39m[\u001b[38;5;124m\"\u001b[39m\u001b[38;5;124mPredicted_prob\u001b[39m\u001b[38;5;124m\"\u001b[39m])\n\u001b[1;32m      3\u001b[0m train[\u001b[38;5;124m\"\u001b[39m\u001b[38;5;124mActual\u001b[39m\u001b[38;5;124m\"\u001b[39m] \u001b[38;5;241m=\u001b[39m y_train\n\u001b[0;32m----> 4\u001b[0m train[\u001b[38;5;124m\"\u001b[39m\u001b[38;5;124mPredicted_Class\u001b[39m\u001b[38;5;124m\"\u001b[39m] \u001b[38;5;241m=\u001b[39m np\u001b[38;5;241m.\u001b[39mwhere(train[\u001b[38;5;124m\"\u001b[39m\u001b[38;5;124mPredicted_prob\u001b[39m\u001b[38;5;124m\"\u001b[39m] \u001b[38;5;241m>\u001b[39m \u001b[38;5;241m0.5\u001b[39m, \u001b[38;5;241m1.0\u001b[39m)\n",
      "\u001b[0;31mValueError\u001b[0m: either both or neither of x and y should be given"
     ]
    }
   ],
   "source": [
    "y_pred_train\n",
    "train = pd.DataFrame(y_pred_train, columns=[\"Predicted_prob\"])\n",
    "train[\"Actual\"] = y_train\n",
    "train[\"Predicted_Class\"] = np.where(train[\"Predicted_prob\"] > 0.5, 1.0)\n",
    "# train = train.dropna()"
   ]
  }
 ],
 "metadata": {
  "kernelspec": {
   "display_name": "base",
   "language": "python",
   "name": "python3"
  },
  "language_info": {
   "codemirror_mode": {
    "name": "ipython",
    "version": 3
   },
   "file_extension": ".py",
   "mimetype": "text/x-python",
   "name": "python",
   "nbconvert_exporter": "python",
   "pygments_lexer": "ipython3",
   "version": "3.11.7"
  }
 },
 "nbformat": 4,
 "nbformat_minor": 2
}
