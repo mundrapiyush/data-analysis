{
 "cells": [
  {
   "cell_type": "markdown",
   "id": "4ba8b470",
   "metadata": {},
   "source": [
    "1. Load the data\n",
    "    - Check the head, tail, shape, info, describe\n",
    "2. Clean the data\n",
    "    - Missing value %\n",
    "    - Numerical Columns (outlier treatment)\n",
    "    - Categorical Columns (columns with very high proportion of same value)\n",
    "3. Divide the columns into 3 categories\n",
    "    - Numerical \n",
    "    - Categorical\n",
    "    - Date Time\n"
   ]
  },
  {
   "cell_type": "markdown",
   "id": "3da713b1",
   "metadata": {
    "papermill": {
     "duration": 0.034501,
     "end_time": "2021-08-13T07:16:36.760335",
     "exception": false,
     "start_time": "2021-08-13T07:16:36.725834",
     "status": "completed"
    },
    "tags": []
   },
   "source": [
    "# 1. Loading dependencies & datasets\n",
    "\n",
    "Lets start by loading our dependencies. We can keep adding any imports to this cell block, as we write mode and mode code."
   ]
  },
  {
   "cell_type": "code",
   "execution_count": 1710,
   "id": "2e47254e",
   "metadata": {
    "execution": {
     "iopub.execute_input": "2021-08-13T07:16:36.838077Z",
     "iopub.status.busy": "2021-08-13T07:16:36.837038Z",
     "iopub.status.idle": "2021-08-13T07:16:38.158096Z",
     "shell.execute_reply": "2021-08-13T07:16:38.157302Z"
    },
    "papermill": {
     "duration": 1.362112,
     "end_time": "2021-08-13T07:16:38.158342",
     "exception": false,
     "start_time": "2021-08-13T07:16:36.796230",
     "status": "completed"
    },
    "tags": []
   },
   "outputs": [],
   "source": [
    "import pandas as pd\n",
    "import numpy as np\n",
    "from sklearn.impute import SimpleImputer\n",
    "from sklearn.impute import KNNImputer\n",
    "from sklearn.model_selection import train_test_split\n",
    "from sklearn.preprocessing import MinMaxScaler\n",
    "\n",
    "from sklearn.linear_model import LogisticRegression\n",
    "from sklearn.feature_selection import RFE\n",
    "import statsmodels.api as sm\n",
    "from sklearn.metrics import confusion_matrix\n",
    "\n",
    "import matplotlib.pyplot as plt\n",
    "import seaborn as sns\n",
    "\n",
    "import warnings\n",
    "\n",
    "warnings.filterwarnings('ignore')\n",
    "%matplotlib inline\n",
    "pd.options.display.max_columns = None\n",
    "pd.options.display.max_rows = None"
   ]
  },
  {
   "cell_type": "code",
   "execution_count": 1711,
   "id": "3b94d1d5",
   "metadata": {
    "execution": {
     "iopub.execute_input": "2021-08-13T07:16:38.396407Z",
     "iopub.status.busy": "2021-08-13T07:16:38.395775Z",
     "iopub.status.idle": "2021-08-13T07:16:40.947829Z",
     "shell.execute_reply": "2021-08-13T07:16:40.948376Z"
    },
    "papermill": {
     "duration": 2.591587,
     "end_time": "2021-08-13T07:16:40.948543",
     "exception": false,
     "start_time": "2021-08-13T07:16:38.356956",
     "status": "completed"
    },
    "tags": []
   },
   "outputs": [
    {
     "name": "stdout",
     "output_type": "stream",
     "text": [
      "(69999, 172)\n",
      "(30000, 171)\n",
      "(30000, 2)\n",
      "(36, 2)\n"
     ]
    }
   ],
   "source": [
    "telecom_df = pd.read_csv(\"../../datasets/telecom-churn/train.csv\")\n",
    "unseen_telecom_df = pd.read_csv(\"../../datasets/telecom-churn/test.csv\")\n",
    "sample_df = pd.read_csv(\"../../datasets/telecom-churn/sample.csv\")\n",
    "data_dict_df = pd.read_csv(\"../../datasets/telecom-churn/data_dictionary.csv\")\n",
    "\n",
    "print(telecom_df.shape)\n",
    "print(unseen_telecom_df.shape)\n",
    "print(sample_df.shape)\n",
    "print(data_dict_df.shape)"
   ]
  },
  {
   "cell_type": "code",
   "execution_count": 1712,
   "id": "2789fdd4",
   "metadata": {},
   "outputs": [
    {
     "name": "stdout",
     "output_type": "stream",
     "text": [
      "<class 'pandas.core.frame.DataFrame'>\n",
      "RangeIndex: 69999 entries, 0 to 69998\n",
      "Data columns (total 172 columns):\n",
      " #    Column                    Non-Null Count  Dtype  \n",
      "---   ------                    --------------  -----  \n",
      " 0    id                        69999 non-null  int64  \n",
      " 1    circle_id                 69999 non-null  int64  \n",
      " 2    loc_og_t2o_mou            69297 non-null  float64\n",
      " 3    std_og_t2o_mou            69297 non-null  float64\n",
      " 4    loc_ic_t2o_mou            69297 non-null  float64\n",
      " 5    last_date_of_month_6      69999 non-null  object \n",
      " 6    last_date_of_month_7      69600 non-null  object \n",
      " 7    last_date_of_month_8      69266 non-null  object \n",
      " 8    arpu_6                    69999 non-null  float64\n",
      " 9    arpu_7                    69999 non-null  float64\n",
      " 10   arpu_8                    69999 non-null  float64\n",
      " 11   onnet_mou_6               67231 non-null  float64\n",
      " 12   onnet_mou_7               67312 non-null  float64\n",
      " 13   onnet_mou_8               66296 non-null  float64\n",
      " 14   offnet_mou_6              67231 non-null  float64\n",
      " 15   offnet_mou_7              67312 non-null  float64\n",
      " 16   offnet_mou_8              66296 non-null  float64\n",
      " 17   roam_ic_mou_6             67231 non-null  float64\n",
      " 18   roam_ic_mou_7             67312 non-null  float64\n",
      " 19   roam_ic_mou_8             66296 non-null  float64\n",
      " 20   roam_og_mou_6             67231 non-null  float64\n",
      " 21   roam_og_mou_7             67312 non-null  float64\n",
      " 22   roam_og_mou_8             66296 non-null  float64\n",
      " 23   loc_og_t2t_mou_6          67231 non-null  float64\n",
      " 24   loc_og_t2t_mou_7          67312 non-null  float64\n",
      " 25   loc_og_t2t_mou_8          66296 non-null  float64\n",
      " 26   loc_og_t2m_mou_6          67231 non-null  float64\n",
      " 27   loc_og_t2m_mou_7          67312 non-null  float64\n",
      " 28   loc_og_t2m_mou_8          66296 non-null  float64\n",
      " 29   loc_og_t2f_mou_6          67231 non-null  float64\n",
      " 30   loc_og_t2f_mou_7          67312 non-null  float64\n",
      " 31   loc_og_t2f_mou_8          66296 non-null  float64\n",
      " 32   loc_og_t2c_mou_6          67231 non-null  float64\n",
      " 33   loc_og_t2c_mou_7          67312 non-null  float64\n",
      " 34   loc_og_t2c_mou_8          66296 non-null  float64\n",
      " 35   loc_og_mou_6              67231 non-null  float64\n",
      " 36   loc_og_mou_7              67312 non-null  float64\n",
      " 37   loc_og_mou_8              66296 non-null  float64\n",
      " 38   std_og_t2t_mou_6          67231 non-null  float64\n",
      " 39   std_og_t2t_mou_7          67312 non-null  float64\n",
      " 40   std_og_t2t_mou_8          66296 non-null  float64\n",
      " 41   std_og_t2m_mou_6          67231 non-null  float64\n",
      " 42   std_og_t2m_mou_7          67312 non-null  float64\n",
      " 43   std_og_t2m_mou_8          66296 non-null  float64\n",
      " 44   std_og_t2f_mou_6          67231 non-null  float64\n",
      " 45   std_og_t2f_mou_7          67312 non-null  float64\n",
      " 46   std_og_t2f_mou_8          66296 non-null  float64\n",
      " 47   std_og_t2c_mou_6          67231 non-null  float64\n",
      " 48   std_og_t2c_mou_7          67312 non-null  float64\n",
      " 49   std_og_t2c_mou_8          66296 non-null  float64\n",
      " 50   std_og_mou_6              67231 non-null  float64\n",
      " 51   std_og_mou_7              67312 non-null  float64\n",
      " 52   std_og_mou_8              66296 non-null  float64\n",
      " 53   isd_og_mou_6              67231 non-null  float64\n",
      " 54   isd_og_mou_7              67312 non-null  float64\n",
      " 55   isd_og_mou_8              66296 non-null  float64\n",
      " 56   spl_og_mou_6              67231 non-null  float64\n",
      " 57   spl_og_mou_7              67312 non-null  float64\n",
      " 58   spl_og_mou_8              66296 non-null  float64\n",
      " 59   og_others_6               67231 non-null  float64\n",
      " 60   og_others_7               67312 non-null  float64\n",
      " 61   og_others_8               66296 non-null  float64\n",
      " 62   total_og_mou_6            69999 non-null  float64\n",
      " 63   total_og_mou_7            69999 non-null  float64\n",
      " 64   total_og_mou_8            69999 non-null  float64\n",
      " 65   loc_ic_t2t_mou_6          67231 non-null  float64\n",
      " 66   loc_ic_t2t_mou_7          67312 non-null  float64\n",
      " 67   loc_ic_t2t_mou_8          66296 non-null  float64\n",
      " 68   loc_ic_t2m_mou_6          67231 non-null  float64\n",
      " 69   loc_ic_t2m_mou_7          67312 non-null  float64\n",
      " 70   loc_ic_t2m_mou_8          66296 non-null  float64\n",
      " 71   loc_ic_t2f_mou_6          67231 non-null  float64\n",
      " 72   loc_ic_t2f_mou_7          67312 non-null  float64\n",
      " 73   loc_ic_t2f_mou_8          66296 non-null  float64\n",
      " 74   loc_ic_mou_6              67231 non-null  float64\n",
      " 75   loc_ic_mou_7              67312 non-null  float64\n",
      " 76   loc_ic_mou_8              66296 non-null  float64\n",
      " 77   std_ic_t2t_mou_6          67231 non-null  float64\n",
      " 78   std_ic_t2t_mou_7          67312 non-null  float64\n",
      " 79   std_ic_t2t_mou_8          66296 non-null  float64\n",
      " 80   std_ic_t2m_mou_6          67231 non-null  float64\n",
      " 81   std_ic_t2m_mou_7          67312 non-null  float64\n",
      " 82   std_ic_t2m_mou_8          66296 non-null  float64\n",
      " 83   std_ic_t2f_mou_6          67231 non-null  float64\n",
      " 84   std_ic_t2f_mou_7          67312 non-null  float64\n",
      " 85   std_ic_t2f_mou_8          66296 non-null  float64\n",
      " 86   std_ic_t2o_mou_6          67231 non-null  float64\n",
      " 87   std_ic_t2o_mou_7          67312 non-null  float64\n",
      " 88   std_ic_t2o_mou_8          66296 non-null  float64\n",
      " 89   std_ic_mou_6              67231 non-null  float64\n",
      " 90   std_ic_mou_7              67312 non-null  float64\n",
      " 91   std_ic_mou_8              66296 non-null  float64\n",
      " 92   total_ic_mou_6            69999 non-null  float64\n",
      " 93   total_ic_mou_7            69999 non-null  float64\n",
      " 94   total_ic_mou_8            69999 non-null  float64\n",
      " 95   spl_ic_mou_6              67231 non-null  float64\n",
      " 96   spl_ic_mou_7              67312 non-null  float64\n",
      " 97   spl_ic_mou_8              66296 non-null  float64\n",
      " 98   isd_ic_mou_6              67231 non-null  float64\n",
      " 99   isd_ic_mou_7              67312 non-null  float64\n",
      " 100  isd_ic_mou_8              66296 non-null  float64\n",
      " 101  ic_others_6               67231 non-null  float64\n",
      " 102  ic_others_7               67312 non-null  float64\n",
      " 103  ic_others_8               66296 non-null  float64\n",
      " 104  total_rech_num_6          69999 non-null  int64  \n",
      " 105  total_rech_num_7          69999 non-null  int64  \n",
      " 106  total_rech_num_8          69999 non-null  int64  \n",
      " 107  total_rech_amt_6          69999 non-null  int64  \n",
      " 108  total_rech_amt_7          69999 non-null  int64  \n",
      " 109  total_rech_amt_8          69999 non-null  int64  \n",
      " 110  max_rech_amt_6            69999 non-null  int64  \n",
      " 111  max_rech_amt_7            69999 non-null  int64  \n",
      " 112  max_rech_amt_8            69999 non-null  int64  \n",
      " 113  date_of_last_rech_6       68898 non-null  object \n",
      " 114  date_of_last_rech_7       68765 non-null  object \n",
      " 115  date_of_last_rech_8       67538 non-null  object \n",
      " 116  last_day_rch_amt_6        69999 non-null  int64  \n",
      " 117  last_day_rch_amt_7        69999 non-null  int64  \n",
      " 118  last_day_rch_amt_8        69999 non-null  int64  \n",
      " 119  date_of_last_rech_data_6  17568 non-null  object \n",
      " 120  date_of_last_rech_data_7  17865 non-null  object \n",
      " 121  date_of_last_rech_data_8  18417 non-null  object \n",
      " 122  total_rech_data_6         17568 non-null  float64\n",
      " 123  total_rech_data_7         17865 non-null  float64\n",
      " 124  total_rech_data_8         18417 non-null  float64\n",
      " 125  max_rech_data_6           17568 non-null  float64\n",
      " 126  max_rech_data_7           17865 non-null  float64\n",
      " 127  max_rech_data_8           18417 non-null  float64\n",
      " 128  count_rech_2g_6           17568 non-null  float64\n",
      " 129  count_rech_2g_7           17865 non-null  float64\n",
      " 130  count_rech_2g_8           18417 non-null  float64\n",
      " 131  count_rech_3g_6           17568 non-null  float64\n",
      " 132  count_rech_3g_7           17865 non-null  float64\n",
      " 133  count_rech_3g_8           18417 non-null  float64\n",
      " 134  av_rech_amt_data_6        17568 non-null  float64\n",
      " 135  av_rech_amt_data_7        17865 non-null  float64\n",
      " 136  av_rech_amt_data_8        18417 non-null  float64\n",
      " 137  vol_2g_mb_6               69999 non-null  float64\n",
      " 138  vol_2g_mb_7               69999 non-null  float64\n",
      " 139  vol_2g_mb_8               69999 non-null  float64\n",
      " 140  vol_3g_mb_6               69999 non-null  float64\n",
      " 141  vol_3g_mb_7               69999 non-null  float64\n",
      " 142  vol_3g_mb_8               69999 non-null  float64\n",
      " 143  arpu_3g_6                 17568 non-null  float64\n",
      " 144  arpu_3g_7                 17865 non-null  float64\n",
      " 145  arpu_3g_8                 18417 non-null  float64\n",
      " 146  arpu_2g_6                 17568 non-null  float64\n",
      " 147  arpu_2g_7                 17865 non-null  float64\n",
      " 148  arpu_2g_8                 18417 non-null  float64\n",
      " 149  night_pck_user_6          17568 non-null  float64\n",
      " 150  night_pck_user_7          17865 non-null  float64\n",
      " 151  night_pck_user_8          18417 non-null  float64\n",
      " 152  monthly_2g_6              69999 non-null  int64  \n",
      " 153  monthly_2g_7              69999 non-null  int64  \n",
      " 154  monthly_2g_8              69999 non-null  int64  \n",
      " 155  sachet_2g_6               69999 non-null  int64  \n",
      " 156  sachet_2g_7               69999 non-null  int64  \n",
      " 157  sachet_2g_8               69999 non-null  int64  \n",
      " 158  monthly_3g_6              69999 non-null  int64  \n",
      " 159  monthly_3g_7              69999 non-null  int64  \n",
      " 160  monthly_3g_8              69999 non-null  int64  \n",
      " 161  sachet_3g_6               69999 non-null  int64  \n",
      " 162  sachet_3g_7               69999 non-null  int64  \n",
      " 163  sachet_3g_8               69999 non-null  int64  \n",
      " 164  fb_user_6                 17568 non-null  float64\n",
      " 165  fb_user_7                 17865 non-null  float64\n",
      " 166  fb_user_8                 18417 non-null  float64\n",
      " 167  aon                       69999 non-null  int64  \n",
      " 168  aug_vbc_3g                69999 non-null  float64\n",
      " 169  jul_vbc_3g                69999 non-null  float64\n",
      " 170  jun_vbc_3g                69999 non-null  float64\n",
      " 171  churn_probability         69999 non-null  int64  \n",
      "dtypes: float64(135), int64(28), object(9)\n",
      "memory usage: 91.9+ MB\n"
     ]
    }
   ],
   "source": [
    "telecom_df.info(verbose=True, show_counts=True)"
   ]
  },
  {
   "cell_type": "code",
   "execution_count": 1713,
   "id": "3b229f1a",
   "metadata": {},
   "outputs": [
    {
     "name": "stdout",
     "output_type": "stream",
     "text": [
      "Number of rows are:  69999\n",
      "Number of cols are:  172\n",
      "Number of duplicated rows are:  0\n"
     ]
    }
   ],
   "source": [
    "print('Number of rows are: ', telecom_df.shape[0])\n",
    "print('Number of cols are: ', telecom_df.shape[1])\n",
    "print('Number of duplicated rows are: ', telecom_df.duplicated().sum())"
   ]
  },
  {
   "cell_type": "markdown",
   "id": "11892261",
   "metadata": {},
   "source": [
    "#### Dropping columns with all NULL Values"
   ]
  },
  {
   "cell_type": "code",
   "execution_count": 1714,
   "id": "adfb4dc5",
   "metadata": {
    "execution": {
     "iopub.execute_input": "2021-08-13T07:16:41.095411Z",
     "iopub.status.busy": "2021-08-13T07:16:41.094812Z",
     "iopub.status.idle": "2021-08-13T07:16:41.123189Z",
     "shell.execute_reply": "2021-08-13T07:16:41.122683Z"
    },
    "papermill": {
     "duration": 0.067353,
     "end_time": "2021-08-13T07:16:41.123346",
     "exception": false,
     "start_time": "2021-08-13T07:16:41.055993",
     "status": "completed"
    },
    "tags": []
   },
   "outputs": [
    {
     "name": "stdout",
     "output_type": "stream",
     "text": [
      "Columns with all null values are: []\n",
      "Number of columns with all null values are:  0\n",
      "Columns with all null values in unseen data are: []\n",
      "Number of columns with all null values in unseen data are:  0\n"
     ]
    }
   ],
   "source": [
    "all_null_value_cols = [col for col in telecom_df.columns if telecom_df[col].isnull().all() == True]\n",
    "unseen_all_null_value_cols = [col for col in unseen_telecom_df.columns if unseen_telecom_df[col].isnull().all() == True]\n",
    "\n",
    "print('Columns with all null values are:', all_null_value_cols)\n",
    "print('Number of columns with all null values are: ', len(all_null_value_cols))\n",
    "\n",
    "print('Columns with all null values in unseen data are:', unseen_all_null_value_cols)\n",
    "print('Number of columns with all null values in unseen data are: ', len(unseen_all_null_value_cols))"
   ]
  },
  {
   "cell_type": "markdown",
   "id": "332e8508",
   "metadata": {},
   "source": [
    "##### Dropping columns with SINGLE Values"
   ]
  },
  {
   "cell_type": "code",
   "execution_count": 1715,
   "id": "a50cd064",
   "metadata": {},
   "outputs": [
    {
     "name": "stdout",
     "output_type": "stream",
     "text": [
      "Columns with single value:  ['circle_id', 'loc_og_t2o_mou', 'std_og_t2o_mou', 'loc_ic_t2o_mou', 'last_date_of_month_6', 'last_date_of_month_7', 'last_date_of_month_8', 'std_og_t2c_mou_6', 'std_og_t2c_mou_7', 'std_og_t2c_mou_8', 'std_ic_t2o_mou_6', 'std_ic_t2o_mou_7', 'std_ic_t2o_mou_8']\n",
      "Number of columns with sigle values are:  13\n",
      "Dropped all the columns with single values in available data. Shape now is:  (69999, 159)\n",
      "Dropped all the columns with single values in unseen data. Shape now is:  (30000, 158)\n"
     ]
    }
   ],
   "source": [
    "single_value_cols = []\n",
    "for col in telecom_df.columns:\n",
    "    if telecom_df[col].nunique() == 1:\n",
    "        single_value_cols.append(col)\n",
    "print('Columns with single value: ', single_value_cols)\n",
    "print('Number of columns with sigle values are: ', len(single_value_cols))\n",
    "telecom_df = telecom_df.drop(telecom_df[single_value_cols], axis = 1)\n",
    "unseen_telecom_df = unseen_telecom_df.drop(unseen_telecom_df[single_value_cols], axis = 1)\n",
    "print('Dropped all the columns with single values in available data. Shape now is: ', telecom_df.shape)\n",
    "print('Dropped all the columns with single values in unseen data. Shape now is: ', unseen_telecom_df.shape)"
   ]
  },
  {
   "cell_type": "markdown",
   "id": "68903d3a",
   "metadata": {},
   "source": [
    "#### Dropping the id column"
   ]
  },
  {
   "cell_type": "code",
   "execution_count": 1716,
   "id": "f7d9f537",
   "metadata": {},
   "outputs": [
    {
     "name": "stdout",
     "output_type": "stream",
     "text": [
      "Dropped the id column in available data. Shape now is:  (69999, 158)\n"
     ]
    }
   ],
   "source": [
    "telecom_df = telecom_df.drop(columns=['id'])\n",
    "print('Dropped the id column in available data. Shape now is: ',telecom_df.shape)"
   ]
  },
  {
   "cell_type": "markdown",
   "id": "4e6bcfb2",
   "metadata": {},
   "source": [
    "#### Null Value Treatments"
   ]
  },
  {
   "cell_type": "code",
   "execution_count": 1717,
   "id": "1d860625",
   "metadata": {},
   "outputs": [],
   "source": [
    "def calculate_null_values(telecom_df):\n",
    "    null_percentages = (telecom_df.isnull().sum() / telecom_df.shape[0]) * 100\n",
    "    null_values_df = pd.DataFrame({'Column Name': null_percentages.index, 'Null Percentage': null_percentages})\n",
    "    null_values_df = null_values_df.loc[null_values_df['Null Percentage'] != 0.00]\n",
    "    return null_values_df"
   ]
  },
  {
   "cell_type": "code",
   "execution_count": 1718,
   "id": "fd00c8c0",
   "metadata": {},
   "outputs": [
    {
     "name": "stdout",
     "output_type": "stream",
     "text": [
      "Number of columns with NON-ZERO null values in available data:  (114, 2)\n",
      "Number of columns with NON-ZERO null values in unseen data:  (114, 2)\n"
     ]
    }
   ],
   "source": [
    "null_values_df = calculate_null_values(telecom_df)\n",
    "unseen_null_values_df = calculate_null_values(unseen_telecom_df)\n",
    "print('Number of columns with NON-ZERO null values in available data: ',null_values_df.shape)\n",
    "print('Number of columns with NON-ZERO null values in unseen data: ',unseen_null_values_df.shape)"
   ]
  },
  {
   "cell_type": "code",
   "execution_count": 1719,
   "id": "127f16dc",
   "metadata": {},
   "outputs": [
    {
     "name": "stdout",
     "output_type": "stream",
     "text": [
      "Columns with Null Percentage greater than 70.00\n"
     ]
    },
    {
     "data": {
      "text/html": [
       "<div>\n",
       "<style scoped>\n",
       "    .dataframe tbody tr th:only-of-type {\n",
       "        vertical-align: middle;\n",
       "    }\n",
       "\n",
       "    .dataframe tbody tr th {\n",
       "        vertical-align: top;\n",
       "    }\n",
       "\n",
       "    .dataframe thead th {\n",
       "        text-align: right;\n",
       "    }\n",
       "</style>\n",
       "<table border=\"1\" class=\"dataframe\">\n",
       "  <thead>\n",
       "    <tr style=\"text-align: right;\">\n",
       "      <th></th>\n",
       "      <th>Column Name</th>\n",
       "      <th>Null Percentage</th>\n",
       "    </tr>\n",
       "  </thead>\n",
       "  <tbody>\n",
       "    <tr>\n",
       "      <th>date_of_last_rech_data_6</th>\n",
       "      <td>date_of_last_rech_data_6</td>\n",
       "      <td>74.902499</td>\n",
       "    </tr>\n",
       "    <tr>\n",
       "      <th>date_of_last_rech_data_7</th>\n",
       "      <td>date_of_last_rech_data_7</td>\n",
       "      <td>74.478207</td>\n",
       "    </tr>\n",
       "    <tr>\n",
       "      <th>date_of_last_rech_data_8</th>\n",
       "      <td>date_of_last_rech_data_8</td>\n",
       "      <td>73.689624</td>\n",
       "    </tr>\n",
       "    <tr>\n",
       "      <th>total_rech_data_6</th>\n",
       "      <td>total_rech_data_6</td>\n",
       "      <td>74.902499</td>\n",
       "    </tr>\n",
       "    <tr>\n",
       "      <th>total_rech_data_7</th>\n",
       "      <td>total_rech_data_7</td>\n",
       "      <td>74.478207</td>\n",
       "    </tr>\n",
       "    <tr>\n",
       "      <th>total_rech_data_8</th>\n",
       "      <td>total_rech_data_8</td>\n",
       "      <td>73.689624</td>\n",
       "    </tr>\n",
       "    <tr>\n",
       "      <th>max_rech_data_6</th>\n",
       "      <td>max_rech_data_6</td>\n",
       "      <td>74.902499</td>\n",
       "    </tr>\n",
       "    <tr>\n",
       "      <th>max_rech_data_7</th>\n",
       "      <td>max_rech_data_7</td>\n",
       "      <td>74.478207</td>\n",
       "    </tr>\n",
       "    <tr>\n",
       "      <th>max_rech_data_8</th>\n",
       "      <td>max_rech_data_8</td>\n",
       "      <td>73.689624</td>\n",
       "    </tr>\n",
       "    <tr>\n",
       "      <th>count_rech_2g_6</th>\n",
       "      <td>count_rech_2g_6</td>\n",
       "      <td>74.902499</td>\n",
       "    </tr>\n",
       "    <tr>\n",
       "      <th>count_rech_2g_7</th>\n",
       "      <td>count_rech_2g_7</td>\n",
       "      <td>74.478207</td>\n",
       "    </tr>\n",
       "    <tr>\n",
       "      <th>count_rech_2g_8</th>\n",
       "      <td>count_rech_2g_8</td>\n",
       "      <td>73.689624</td>\n",
       "    </tr>\n",
       "    <tr>\n",
       "      <th>count_rech_3g_6</th>\n",
       "      <td>count_rech_3g_6</td>\n",
       "      <td>74.902499</td>\n",
       "    </tr>\n",
       "    <tr>\n",
       "      <th>count_rech_3g_7</th>\n",
       "      <td>count_rech_3g_7</td>\n",
       "      <td>74.478207</td>\n",
       "    </tr>\n",
       "    <tr>\n",
       "      <th>count_rech_3g_8</th>\n",
       "      <td>count_rech_3g_8</td>\n",
       "      <td>73.689624</td>\n",
       "    </tr>\n",
       "    <tr>\n",
       "      <th>av_rech_amt_data_6</th>\n",
       "      <td>av_rech_amt_data_6</td>\n",
       "      <td>74.902499</td>\n",
       "    </tr>\n",
       "    <tr>\n",
       "      <th>av_rech_amt_data_7</th>\n",
       "      <td>av_rech_amt_data_7</td>\n",
       "      <td>74.478207</td>\n",
       "    </tr>\n",
       "    <tr>\n",
       "      <th>av_rech_amt_data_8</th>\n",
       "      <td>av_rech_amt_data_8</td>\n",
       "      <td>73.689624</td>\n",
       "    </tr>\n",
       "    <tr>\n",
       "      <th>arpu_3g_6</th>\n",
       "      <td>arpu_3g_6</td>\n",
       "      <td>74.902499</td>\n",
       "    </tr>\n",
       "    <tr>\n",
       "      <th>arpu_3g_7</th>\n",
       "      <td>arpu_3g_7</td>\n",
       "      <td>74.478207</td>\n",
       "    </tr>\n",
       "    <tr>\n",
       "      <th>arpu_3g_8</th>\n",
       "      <td>arpu_3g_8</td>\n",
       "      <td>73.689624</td>\n",
       "    </tr>\n",
       "    <tr>\n",
       "      <th>arpu_2g_6</th>\n",
       "      <td>arpu_2g_6</td>\n",
       "      <td>74.902499</td>\n",
       "    </tr>\n",
       "    <tr>\n",
       "      <th>arpu_2g_7</th>\n",
       "      <td>arpu_2g_7</td>\n",
       "      <td>74.478207</td>\n",
       "    </tr>\n",
       "    <tr>\n",
       "      <th>arpu_2g_8</th>\n",
       "      <td>arpu_2g_8</td>\n",
       "      <td>73.689624</td>\n",
       "    </tr>\n",
       "    <tr>\n",
       "      <th>night_pck_user_6</th>\n",
       "      <td>night_pck_user_6</td>\n",
       "      <td>74.902499</td>\n",
       "    </tr>\n",
       "    <tr>\n",
       "      <th>night_pck_user_7</th>\n",
       "      <td>night_pck_user_7</td>\n",
       "      <td>74.478207</td>\n",
       "    </tr>\n",
       "    <tr>\n",
       "      <th>night_pck_user_8</th>\n",
       "      <td>night_pck_user_8</td>\n",
       "      <td>73.689624</td>\n",
       "    </tr>\n",
       "    <tr>\n",
       "      <th>fb_user_6</th>\n",
       "      <td>fb_user_6</td>\n",
       "      <td>74.902499</td>\n",
       "    </tr>\n",
       "    <tr>\n",
       "      <th>fb_user_7</th>\n",
       "      <td>fb_user_7</td>\n",
       "      <td>74.478207</td>\n",
       "    </tr>\n",
       "    <tr>\n",
       "      <th>fb_user_8</th>\n",
       "      <td>fb_user_8</td>\n",
       "      <td>73.689624</td>\n",
       "    </tr>\n",
       "  </tbody>\n",
       "</table>\n",
       "</div>"
      ],
      "text/plain": [
       "                                       Column Name  Null Percentage\n",
       "date_of_last_rech_data_6  date_of_last_rech_data_6        74.902499\n",
       "date_of_last_rech_data_7  date_of_last_rech_data_7        74.478207\n",
       "date_of_last_rech_data_8  date_of_last_rech_data_8        73.689624\n",
       "total_rech_data_6                total_rech_data_6        74.902499\n",
       "total_rech_data_7                total_rech_data_7        74.478207\n",
       "total_rech_data_8                total_rech_data_8        73.689624\n",
       "max_rech_data_6                    max_rech_data_6        74.902499\n",
       "max_rech_data_7                    max_rech_data_7        74.478207\n",
       "max_rech_data_8                    max_rech_data_8        73.689624\n",
       "count_rech_2g_6                    count_rech_2g_6        74.902499\n",
       "count_rech_2g_7                    count_rech_2g_7        74.478207\n",
       "count_rech_2g_8                    count_rech_2g_8        73.689624\n",
       "count_rech_3g_6                    count_rech_3g_6        74.902499\n",
       "count_rech_3g_7                    count_rech_3g_7        74.478207\n",
       "count_rech_3g_8                    count_rech_3g_8        73.689624\n",
       "av_rech_amt_data_6              av_rech_amt_data_6        74.902499\n",
       "av_rech_amt_data_7              av_rech_amt_data_7        74.478207\n",
       "av_rech_amt_data_8              av_rech_amt_data_8        73.689624\n",
       "arpu_3g_6                                arpu_3g_6        74.902499\n",
       "arpu_3g_7                                arpu_3g_7        74.478207\n",
       "arpu_3g_8                                arpu_3g_8        73.689624\n",
       "arpu_2g_6                                arpu_2g_6        74.902499\n",
       "arpu_2g_7                                arpu_2g_7        74.478207\n",
       "arpu_2g_8                                arpu_2g_8        73.689624\n",
       "night_pck_user_6                  night_pck_user_6        74.902499\n",
       "night_pck_user_7                  night_pck_user_7        74.478207\n",
       "night_pck_user_8                  night_pck_user_8        73.689624\n",
       "fb_user_6                                fb_user_6        74.902499\n",
       "fb_user_7                                fb_user_7        74.478207\n",
       "fb_user_8                                fb_user_8        73.689624"
      ]
     },
     "execution_count": 1719,
     "metadata": {},
     "output_type": "execute_result"
    }
   ],
   "source": [
    "print('Columns with Null Percentage greater than 70.00')\n",
    "null_values_df[null_values_df['Null Percentage'] > 70.00]"
   ]
  },
  {
   "cell_type": "code",
   "execution_count": 1720,
   "id": "9e823fa8",
   "metadata": {},
   "outputs": [
    {
     "name": "stdout",
     "output_type": "stream",
     "text": [
      "Imputing the categorical columns with appropriate values\n",
      "Number of columns with NON-ZERO null values in available data:  (108, 2)\n",
      "Number of columns with NON-ZERO null values in unseen data:  (108, 2)\n"
     ]
    }
   ],
   "source": [
    "print('Imputing the categorical columns with appropriate values')\n",
    "null_cat_columns = [\n",
    "    'night_pck_user_6',\n",
    "    'night_pck_user_7',\n",
    "    'night_pck_user_8',\n",
    "    'fb_user_6',\n",
    "    'fb_user_7',\n",
    "    'fb_user_8',\n",
    "]\n",
    "telecom_df[null_cat_columns] = telecom_df[null_cat_columns].fillna(-1).astype('category')\n",
    "unseen_telecom_df[null_cat_columns] = unseen_telecom_df[null_cat_columns].fillna(-1).astype('category')\n",
    "null_values_df = calculate_null_values(telecom_df)\n",
    "unseen_null_values_df = calculate_null_values(unseen_telecom_df)\n",
    "print('Number of columns with NON-ZERO null values in available data: ',null_values_df.shape)\n",
    "print('Number of columns with NON-ZERO null values in unseen data: ',unseen_null_values_df.shape)"
   ]
  },
  {
   "cell_type": "code",
   "execution_count": 1721,
   "id": "a17a8b80",
   "metadata": {},
   "outputs": [
    {
     "name": "stdout",
     "output_type": "stream",
     "text": [
      "Removing the date columns with null values as they are not useful\n",
      "Number of columns with NON-ZERO null values in available data:  (102, 2)\n",
      "Number of columns with NON-ZERO null values in unseen data:  (102, 2)\n"
     ]
    }
   ],
   "source": [
    "print('Removing the date columns with null values as they are not useful')\n",
    "null_date_columns = [\n",
    "    'date_of_last_rech_data_6',\n",
    "    'date_of_last_rech_data_7',\n",
    "    'date_of_last_rech_data_8',\n",
    "    'date_of_last_rech_6',\n",
    "    'date_of_last_rech_7',\n",
    "    'date_of_last_rech_8'\n",
    "]\n",
    "telecom_df = telecom_df.drop(null_date_columns, axis = 1)\n",
    "unseen_telecom_df = unseen_telecom_df.drop(null_date_columns, axis = 1)\n",
    "null_values_df = calculate_null_values(telecom_df)\n",
    "unseen_null_values_df = calculate_null_values(unseen_telecom_df)\n",
    "print('Number of columns with NON-ZERO null values in available data: ',null_values_df.shape)\n",
    "print('Number of columns with NON-ZERO null values in unseen data: ',unseen_null_values_df.shape)"
   ]
  },
  {
   "cell_type": "code",
   "execution_count": 1722,
   "id": "6cb13f16",
   "metadata": {},
   "outputs": [
    {
     "name": "stdout",
     "output_type": "stream",
     "text": [
      "Imputing the numerical columns with null values\n",
      "Number of columns with NON-ZERO null values in available data:  (81, 2)\n",
      "Number of columns with NON-ZERO null values in unseen data:  (81, 2)\n"
     ]
    }
   ],
   "source": [
    "print('Imputing the numerical columns with null values')\n",
    "null_num_columns = null_values_df[null_values_df['Null Percentage'] > 70.00]['Column Name'].tolist()\n",
    "telecom_df[null_num_columns] = telecom_df[null_num_columns].fillna(0.0)\n",
    "unseen_telecom_df[null_num_columns] = unseen_telecom_df[null_num_columns].fillna(0.0)\n",
    "null_values_df = calculate_null_values(telecom_df)\n",
    "unseen_null_values_df = calculate_null_values(unseen_telecom_df)\n",
    "print('Number of columns with NON-ZERO null values in available data: ',null_values_df.shape)\n",
    "print('Number of columns with NON-ZERO null values in unseen data: ',unseen_null_values_df.shape)"
   ]
  },
  {
   "cell_type": "code",
   "execution_count": 1723,
   "id": "7bce3658",
   "metadata": {},
   "outputs": [
    {
     "name": "stdout",
     "output_type": "stream",
     "text": [
      "Imputing the columns with NAN values using Simple Imputer\n",
      "Number of columns with NON-ZERO null values in available data:  (0, 2)\n",
      "Number of columns with NON-ZERO null values in unseen data:  (0, 2)\n"
     ]
    }
   ],
   "source": [
    "print('Imputing the columns with NAN values using Simple Imputer')\n",
    "imputer = SimpleImputer(missing_values = np.nan, strategy='mean')\n",
    "#imputer = KNNImputer(n_neighbors = 5)\n",
    "telecom_df[null_values_df['Column Name']] = imputer.fit_transform(telecom_df[null_values_df['Column Name']])\n",
    "unseen_telecom_df[unseen_null_values_df['Column Name']] = imputer.fit_transform(unseen_telecom_df[unseen_null_values_df['Column Name']])  \n",
    "\n",
    "null_values_df = calculate_null_values(telecom_df)\n",
    "unseen_null_values_df = calculate_null_values(unseen_telecom_df)\n",
    "\n",
    "print('Number of columns with NON-ZERO null values in available data: ',null_values_df.shape)\n",
    "print('Number of columns with NON-ZERO null values in unseen data: ',unseen_null_values_df.shape)"
   ]
  },
  {
   "cell_type": "code",
   "execution_count": 1724,
   "id": "51df0bcb",
   "metadata": {},
   "outputs": [
    {
     "name": "stdout",
     "output_type": "stream",
     "text": [
      "Deriving total value columns for available data:\n",
      "Deriving total value columns for unseen data:\n"
     ]
    }
   ],
   "source": [
    "print('Deriving total value columns for available data:')\n",
    "telecom_df['total_rech_data_amt_6'] = telecom_df['total_rech_data_6'] * telecom_df['av_rech_amt_data_6']\n",
    "telecom_df['total_rech_data_amt_7'] = telecom_df['total_rech_data_7'] * telecom_df['av_rech_amt_data_7']\n",
    "telecom_df['total_rech_data_amt_8'] = telecom_df['total_rech_data_8'] * telecom_df['av_rech_amt_data_8']\n",
    "\n",
    "telecom_df['total_amt_6'] = telecom_df['total_rech_amt_6'] + telecom_df['total_rech_data_amt_6']\n",
    "telecom_df['total_amt_7'] = telecom_df['total_rech_amt_7'] + telecom_df['total_rech_data_amt_7']\n",
    "telecom_df['total_amt_8'] = telecom_df['total_rech_amt_8'] + telecom_df['total_rech_data_amt_8']\n",
    "\n",
    "telecom_df['total_value'] = telecom_df['total_amt_6'] + telecom_df['total_amt_7']\n",
    "\n",
    "print('Deriving total value columns for unseen data:')\n",
    "unseen_telecom_df['total_rech_data_amt_6'] = unseen_telecom_df['total_rech_data_6'] * unseen_telecom_df['av_rech_amt_data_6']\n",
    "unseen_telecom_df['total_rech_data_amt_7'] = unseen_telecom_df['total_rech_data_7'] * unseen_telecom_df['av_rech_amt_data_7']\n",
    "unseen_telecom_df['total_rech_data_amt_8'] = unseen_telecom_df['total_rech_data_8'] * unseen_telecom_df['av_rech_amt_data_8']\n",
    "\n",
    "unseen_telecom_df['total_amt_6'] = unseen_telecom_df['total_rech_amt_6'] + unseen_telecom_df['total_rech_data_amt_6']\n",
    "unseen_telecom_df['total_amt_7'] = unseen_telecom_df['total_rech_amt_7'] + unseen_telecom_df['total_rech_data_amt_7']\n",
    "unseen_telecom_df['total_amt_8'] = unseen_telecom_df['total_rech_amt_8'] + unseen_telecom_df['total_rech_data_amt_8']\n",
    "\n",
    "unseen_telecom_df['total_value'] = unseen_telecom_df['total_amt_6'] + unseen_telecom_df['total_amt_7']"
   ]
  },
  {
   "cell_type": "code",
   "execution_count": 1725,
   "id": "1618607f",
   "metadata": {},
   "outputs": [],
   "source": [
    "cat_dummies_df = pd.get_dummies(telecom_df[null_cat_columns], drop_first = True, dtype = 'int')\n",
    "unseen_cat_dummies_df = pd.get_dummies(unseen_telecom_df[null_cat_columns], drop_first = True, dtype = 'int')\n",
    "telecom_df = pd.concat([telecom_df, cat_dummies_df], axis=1)\n",
    "unseen_telecom_df = pd.concat([unseen_telecom_df, unseen_cat_dummies_df], axis=1)"
   ]
  },
  {
   "cell_type": "code",
   "execution_count": 1726,
   "id": "2d2cefb7",
   "metadata": {},
   "outputs": [
    {
     "name": "stdout",
     "output_type": "stream",
     "text": [
      "Filtered high value customers from available data. Shape now is:  (17495, 171)\n",
      "Filtered high value customers from unseen data. Shape now is:  (7499, 171)\n"
     ]
    }
   ],
   "source": [
    "high_value_telecom_df = telecom_df[(telecom_df['total_value'] > telecom_df['total_value'].quantile(0.75))].copy()\n",
    "unseen_high_value_telecom_df = unseen_telecom_df[(unseen_telecom_df['total_value'] > unseen_telecom_df['total_value'].quantile(0.75))].copy()\n",
    "\n",
    "print('Filtered high value customers from available data. Shape now is: ',high_value_telecom_df.shape)\n",
    "print('Filtered high value customers from unseen data. Shape now is: ',unseen_high_value_telecom_df.shape)"
   ]
  },
  {
   "cell_type": "code",
   "execution_count": 1727,
   "id": "a351bba1",
   "metadata": {},
   "outputs": [],
   "source": [
    "telecom_df['churn_probability'] = telecom_df['churn_probability'].astype('category')\n",
    "X = high_value_telecom_df.drop(['churn_probability'], axis=1)\n",
    "y = high_value_telecom_df['churn_probability']\n",
    "X_unseen = unseen_high_value_telecom_df\n",
    "X_unseen_id = X_unseen.pop(('id'))"
   ]
  },
  {
   "cell_type": "markdown",
   "id": "3b1e9eca",
   "metadata": {
    "papermill": {
     "duration": 0.039731,
     "end_time": "2021-08-13T07:16:42.189842",
     "exception": false,
     "start_time": "2021-08-13T07:16:42.150111",
     "status": "completed"
    },
    "tags": []
   },
   "source": [
    "Splitting train and test data to avoid any contamination of the test data"
   ]
  },
  {
   "cell_type": "code",
   "execution_count": 1728,
   "id": "19049f7a",
   "metadata": {
    "execution": {
     "iopub.execute_input": "2021-08-13T07:16:42.274868Z",
     "iopub.status.busy": "2021-08-13T07:16:42.274265Z",
     "iopub.status.idle": "2021-08-13T07:16:42.293801Z",
     "shell.execute_reply": "2021-08-13T07:16:42.294259Z"
    },
    "papermill": {
     "duration": 0.065525,
     "end_time": "2021-08-13T07:16:42.294433",
     "exception": false,
     "start_time": "2021-08-13T07:16:42.228908",
     "status": "completed"
    },
    "tags": []
   },
   "outputs": [],
   "source": [
    "X_train, X_test, y_train, y_test = train_test_split(X, y, test_size = 0.2, random_state = 100)"
   ]
  },
  {
   "cell_type": "code",
   "execution_count": 1729,
   "id": "383c1ddb",
   "metadata": {
    "execution": {
     "iopub.execute_input": "2021-08-13T07:16:42.376039Z",
     "iopub.status.busy": "2021-08-13T07:16:42.375133Z",
     "iopub.status.idle": "2021-08-13T07:16:42.401238Z",
     "shell.execute_reply": "2021-08-13T07:16:42.401707Z"
    },
    "papermill": {
     "duration": 0.068615,
     "end_time": "2021-08-13T07:16:42.402101",
     "exception": false,
     "start_time": "2021-08-13T07:16:42.333486",
     "status": "completed"
    },
    "tags": []
   },
   "outputs": [
    {
     "name": "stdout",
     "output_type": "stream",
     "text": [
      "Train X Shape:  (13996, 170)\n",
      "Test X Shape:  (3499, 170)\n",
      "Unseen X Shape:  (7499, 170)\n",
      "Train y Shape:  (13996,)\n",
      "Test y Shape:  (3499,)\n"
     ]
    }
   ],
   "source": [
    "# Checking the shape after split\n",
    "print('Train X Shape: ', X_train.shape)\n",
    "print('Test X Shape: ', X_test.shape)\n",
    "print('Unseen X Shape: ', X_unseen.shape)\n",
    "print('Train y Shape: ', y_train.shape)\n",
    "print('Test y Shape: ', y_test.shape)"
   ]
  },
  {
   "cell_type": "code",
   "execution_count": 1730,
   "id": "639e5968",
   "metadata": {},
   "outputs": [],
   "source": [
    "scaler = MinMaxScaler()\n",
    "X_train_scaled = scaler.fit_transform(X_train)\n",
    "X_test_scaled = scaler.transform(X_test)\n",
    "X_unseen_scaled = scaler.transform(X_unseen)"
   ]
  },
  {
   "cell_type": "code",
   "execution_count": 1731,
   "id": "87d7d06f",
   "metadata": {},
   "outputs": [],
   "source": [
    "X_train_scaled = pd.DataFrame(X_train_scaled, columns = X_train.columns)\n",
    "X_test_scaled = pd.DataFrame(X_test_scaled, columns = X_test.columns)\n",
    "X_unseen_scaled = pd.DataFrame(X_unseen_scaled, columns = X_unseen.columns)"
   ]
  },
  {
   "cell_type": "code",
   "execution_count": 1732,
   "id": "df23e99b",
   "metadata": {},
   "outputs": [],
   "source": [
    "logistic_regression = LogisticRegression()\n",
    "rfe_selector = RFE(logistic_regression, n_features_to_select = 20)\n",
    "rfe_selector.fit(X_train_scaled, y_train)\n",
    "selected_features = X_train_scaled.columns[rfe_selector.support_]"
   ]
  },
  {
   "cell_type": "code",
   "execution_count": 1733,
   "id": "f88523a4",
   "metadata": {},
   "outputs": [],
   "source": [
    "X_train_scaled_selected = X_train_scaled[selected_features]\n",
    "X_test_scaled_selected = X_test_scaled[selected_features]\n",
    "X_unseen_scaled_selected = X_unseen_scaled[selected_features]"
   ]
  },
  {
   "cell_type": "code",
   "execution_count": 1734,
   "id": "d891f971",
   "metadata": {},
   "outputs": [
    {
     "name": "stdout",
     "output_type": "stream",
     "text": [
      "Train X Shape:  (13996, 20)\n",
      "Test X Shape:  (3499, 20)\n",
      "Unseen X Shape:  (7499, 20)\n",
      "Train y Shape:  (13996,)\n",
      "Test y Shape:  (3499,)\n"
     ]
    }
   ],
   "source": [
    "print('Train X Shape: ', X_train_scaled_selected.shape)\n",
    "print('Test X Shape: ', X_test_scaled_selected.shape)\n",
    "print('Unseen X Shape: ', X_unseen_scaled_selected.shape)\n",
    "print('Train y Shape: ', y_train.shape)\n",
    "print('Test y Shape: ', y_test.shape)"
   ]
  },
  {
   "cell_type": "code",
   "execution_count": 1735,
   "id": "f1c1204e",
   "metadata": {},
   "outputs": [],
   "source": [
    "logistic_regression.fit(X_train_scaled_selected, y_train)\n",
    "y_train_pred = logistic_regression.predict(X_train_scaled_selected)\n",
    "train_score = logistic_regression.score(X_train_scaled_selected, y_train)"
   ]
  },
  {
   "cell_type": "code",
   "execution_count": 1736,
   "id": "ba5ed4bb",
   "metadata": {},
   "outputs": [],
   "source": [
    "y_test_pred = logistic_regression.predict(X_test_scaled_selected)\n",
    "test_score = logistic_regression.score(X_test_scaled_selected, y_test)"
   ]
  },
  {
   "cell_type": "code",
   "execution_count": 1737,
   "id": "85af6f72",
   "metadata": {},
   "outputs": [
    {
     "name": "stdout",
     "output_type": "stream",
     "text": [
      "Train accuracy: 91.91\n",
      "Test accuracy: 92.37\n"
     ]
    }
   ],
   "source": [
    "print(\"Train accuracy:\", round(train_score * 100, ndigits=2))\n",
    "print(\"Test accuracy:\", round(test_score * 100, ndigits=2))"
   ]
  },
  {
   "cell_type": "code",
   "execution_count": 1738,
   "id": "27bd8d30",
   "metadata": {},
   "outputs": [
    {
     "data": {
      "text/html": [
       "<div>\n",
       "<style scoped>\n",
       "    .dataframe tbody tr th:only-of-type {\n",
       "        vertical-align: middle;\n",
       "    }\n",
       "\n",
       "    .dataframe tbody tr th {\n",
       "        vertical-align: top;\n",
       "    }\n",
       "\n",
       "    .dataframe thead th {\n",
       "        text-align: right;\n",
       "    }\n",
       "</style>\n",
       "<table border=\"1\" class=\"dataframe\">\n",
       "  <thead>\n",
       "    <tr style=\"text-align: right;\">\n",
       "      <th></th>\n",
       "      <th>0</th>\n",
       "    </tr>\n",
       "  </thead>\n",
       "  <tbody>\n",
       "    <tr>\n",
       "      <th>0</th>\n",
       "      <td>0</td>\n",
       "    </tr>\n",
       "    <tr>\n",
       "      <th>1</th>\n",
       "      <td>0</td>\n",
       "    </tr>\n",
       "    <tr>\n",
       "      <th>2</th>\n",
       "      <td>0</td>\n",
       "    </tr>\n",
       "    <tr>\n",
       "      <th>3</th>\n",
       "      <td>0</td>\n",
       "    </tr>\n",
       "    <tr>\n",
       "      <th>4</th>\n",
       "      <td>0</td>\n",
       "    </tr>\n",
       "  </tbody>\n",
       "</table>\n",
       "</div>"
      ],
      "text/plain": [
       "   0\n",
       "0  0\n",
       "1  0\n",
       "2  0\n",
       "3  0\n",
       "4  0"
      ]
     },
     "execution_count": 1738,
     "metadata": {},
     "output_type": "execute_result"
    }
   ],
   "source": [
    "y_unseen_pred = logistic_regression.predict(X_unseen_scaled_selected)\n",
    "y_unseen_pred_df = pd.DataFrame(y_unseen_pred)\n",
    "y_unseen_pred_df = pd.concat([y_unseen_pred_df, X_unseen_id])\n",
    "y_unseen_pred_df.head()"
   ]
  },
  {
   "cell_type": "markdown",
   "id": "1d1e1eef",
   "metadata": {
    "papermill": {
     "duration": 0.067672,
     "end_time": "2021-08-13T07:17:24.385001",
     "exception": false,
     "start_time": "2021-08-13T07:17:24.317329",
     "status": "completed"
    },
    "tags": []
   },
   "source": [
    "# 7. Creating submission file\n",
    "\n",
    "For submission, we need to make sure that the format is exactly the same as the sample.csv file. It contains 2 columns, id and churn_probability"
   ]
  },
  {
   "cell_type": "markdown",
   "id": "da9eb3a2",
   "metadata": {
    "papermill": {
     "duration": 0.06952,
     "end_time": "2021-08-13T07:17:24.977086",
     "exception": false,
     "start_time": "2021-08-13T07:17:24.907566",
     "status": "completed"
    },
    "tags": []
   },
   "source": [
    "Lets first select the columns that we want to work with (or create them, if you have done any feature engineering)"
   ]
  },
  {
   "cell_type": "code",
   "execution_count": null,
   "id": "530c384a",
   "metadata": {
    "execution": {
     "iopub.execute_input": "2021-08-13T07:17:25.121684Z",
     "iopub.status.busy": "2021-08-13T07:17:25.120439Z",
     "iopub.status.idle": "2021-08-13T07:17:25.139846Z",
     "shell.execute_reply": "2021-08-13T07:17:25.140254Z"
    },
    "papermill": {
     "duration": 0.093498,
     "end_time": "2021-08-13T07:17:25.140420",
     "exception": false,
     "start_time": "2021-08-13T07:17:25.046922",
     "status": "completed"
    },
    "tags": []
   },
   "outputs": [
    {
     "data": {
      "text/plain": [
       "(30000, 20)"
      ]
     },
     "execution_count": 1739,
     "metadata": {},
     "output_type": "execute_result"
    }
   ],
   "source": [
    "submission_data = unseen_telecom_df[selected_features]"
   ]
  },
  {
   "cell_type": "markdown",
   "id": "d584eab9",
   "metadata": {
    "papermill": {
     "duration": 0.069588,
     "end_time": "2021-08-13T07:17:25.279867",
     "exception": false,
     "start_time": "2021-08-13T07:17:25.210279",
     "status": "completed"
    },
    "tags": []
   },
   "source": [
    "Next, lets create a new column in the unseen dataset called churn_probability and use the model pipeline to predict the probabilities for this data"
   ]
  },
  {
   "cell_type": "code",
   "execution_count": null,
   "id": "ab2459d7",
   "metadata": {
    "execution": {
     "iopub.execute_input": "2021-08-13T07:17:25.422640Z",
     "iopub.status.busy": "2021-08-13T07:17:25.421696Z",
     "iopub.status.idle": "2021-08-13T07:17:25.457451Z",
     "shell.execute_reply": "2021-08-13T07:17:25.456659Z"
    },
    "papermill": {
     "duration": 0.108369,
     "end_time": "2021-08-13T07:17:25.457668",
     "exception": false,
     "start_time": "2021-08-13T07:17:25.349299",
     "status": "completed"
    },
    "tags": []
   },
   "outputs": [
    {
     "data": {
      "text/html": [
       "<div>\n",
       "<style scoped>\n",
       "    .dataframe tbody tr th:only-of-type {\n",
       "        vertical-align: middle;\n",
       "    }\n",
       "\n",
       "    .dataframe tbody tr th {\n",
       "        vertical-align: top;\n",
       "    }\n",
       "\n",
       "    .dataframe thead th {\n",
       "        text-align: right;\n",
       "    }\n",
       "</style>\n",
       "<table border=\"1\" class=\"dataframe\">\n",
       "  <thead>\n",
       "    <tr style=\"text-align: right;\">\n",
       "      <th></th>\n",
       "      <th>id</th>\n",
       "      <th>churn_probability</th>\n",
       "    </tr>\n",
       "  </thead>\n",
       "  <tbody>\n",
       "    <tr>\n",
       "      <th>0</th>\n",
       "      <td>69999</td>\n",
       "      <td>0</td>\n",
       "    </tr>\n",
       "    <tr>\n",
       "      <th>1</th>\n",
       "      <td>70000</td>\n",
       "      <td>0</td>\n",
       "    </tr>\n",
       "    <tr>\n",
       "      <th>2</th>\n",
       "      <td>70001</td>\n",
       "      <td>0</td>\n",
       "    </tr>\n",
       "    <tr>\n",
       "      <th>3</th>\n",
       "      <td>70002</td>\n",
       "      <td>0</td>\n",
       "    </tr>\n",
       "    <tr>\n",
       "      <th>4</th>\n",
       "      <td>70003</td>\n",
       "      <td>0</td>\n",
       "    </tr>\n",
       "  </tbody>\n",
       "</table>\n",
       "</div>"
      ],
      "text/plain": [
       "      id  churn_probability\n",
       "0  69999                  0\n",
       "1  70000                  0\n",
       "2  70001                  0\n",
       "3  70002                  0\n",
       "4  70003                  0"
      ]
     },
     "execution_count": 1741,
     "metadata": {},
     "output_type": "execute_result"
    }
   ],
   "source": [
    "unseen_telecom_df['churn_probability'] = logistic_regression.predict(submission_data)\n",
    "unseen_telecom_df.head()\n",
    "# output = unseen_telecom_df[['id','churn_probability']]\n",
    "# output.head()"
   ]
  },
  {
   "cell_type": "markdown",
   "id": "d4cc053f",
   "metadata": {
    "papermill": {
     "duration": 0.124336,
     "end_time": "2021-08-13T07:17:25.701056",
     "exception": false,
     "start_time": "2021-08-13T07:17:25.576720",
     "status": "completed"
    },
    "tags": []
   },
   "source": [
    "Finally, lets create a csv file out of this dataset, ensuring to set index=False to avoid an addition column in the csv."
   ]
  },
  {
   "cell_type": "code",
   "execution_count": null,
   "id": "cd0ce11a",
   "metadata": {
    "execution": {
     "iopub.execute_input": "2021-08-13T07:17:25.868564Z",
     "iopub.status.busy": "2021-08-13T07:17:25.867848Z",
     "iopub.status.idle": "2021-08-13T07:17:25.914141Z",
     "shell.execute_reply": "2021-08-13T07:17:25.913627Z"
    },
    "papermill": {
     "duration": 0.12837,
     "end_time": "2021-08-13T07:17:25.914318",
     "exception": false,
     "start_time": "2021-08-13T07:17:25.785948",
     "status": "completed"
    },
    "tags": []
   },
   "outputs": [
    {
     "ename": "NameError",
     "evalue": "name 'output' is not defined",
     "output_type": "error",
     "traceback": [
      "\u001b[0;31m---------------------------------------------------------------------------\u001b[0m",
      "\u001b[0;31mNameError\u001b[0m                                 Traceback (most recent call last)",
      "Cell \u001b[0;32mIn[1652], line 1\u001b[0m\n\u001b[0;32m----> 1\u001b[0m output\u001b[38;5;241m.\u001b[39mto_csv(\u001b[38;5;124m'\u001b[39m\u001b[38;5;124msubmission_lr.csv\u001b[39m\u001b[38;5;124m'\u001b[39m,index\u001b[38;5;241m=\u001b[39m\u001b[38;5;28;01mFalse\u001b[39;00m)\n",
      "\u001b[0;31mNameError\u001b[0m: name 'output' is not defined"
     ]
    }
   ],
   "source": [
    "output.to_csv('submission_lr.csv',index=False)"
   ]
  },
  {
   "cell_type": "markdown",
   "id": "afc24e68",
   "metadata": {
    "papermill": {
     "duration": 0.08214,
     "end_time": "2021-08-13T07:17:26.080507",
     "exception": false,
     "start_time": "2021-08-13T07:17:25.998367",
     "status": "completed"
    },
    "tags": []
   },
   "source": [
    "You can now take this file and upload it as a submission on Kaggle."
   ]
  },
  {
   "cell_type": "code",
   "execution_count": null,
   "id": "8a688423",
   "metadata": {
    "papermill": {
     "duration": 0.070782,
     "end_time": "2021-08-13T07:17:26.223247",
     "exception": false,
     "start_time": "2021-08-13T07:17:26.152465",
     "status": "completed"
    },
    "tags": []
   },
   "outputs": [],
   "source": []
  }
 ],
 "metadata": {
  "kernelspec": {
   "display_name": "base",
   "language": "python",
   "name": "python3"
  },
  "language_info": {
   "codemirror_mode": {
    "name": "ipython",
    "version": 3
   },
   "file_extension": ".py",
   "mimetype": "text/x-python",
   "name": "python",
   "nbconvert_exporter": "python",
   "pygments_lexer": "ipython3",
   "version": "3.11.7"
  },
  "papermill": {
   "default_parameters": {},
   "duration": 57.533667,
   "end_time": "2021-08-13T07:17:27.204430",
   "environment_variables": {},
   "exception": null,
   "input_path": "__notebook__.ipynb",
   "output_path": "__notebook__.ipynb",
   "parameters": {},
   "start_time": "2021-08-13T07:16:29.670763",
   "version": "2.3.3"
  }
 },
 "nbformat": 4,
 "nbformat_minor": 5
}
