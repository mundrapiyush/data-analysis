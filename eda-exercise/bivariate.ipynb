{
 "cells": [
  {
   "cell_type": "code",
   "execution_count": 1,
   "metadata": {},
   "outputs": [],
   "source": [
    "import pandas as pd\n",
    "import numpy as np\n",
    "import matplotlib.pyplot as plt\n",
    "import seaborn as sns"
   ]
  },
  {
   "cell_type": "code",
   "execution_count": 58,
   "metadata": {},
   "outputs": [],
   "source": [
    "prices = pd.read_csv('../datasets/gold_silver.csv')"
   ]
  },
  {
   "cell_type": "code",
   "execution_count": 59,
   "metadata": {},
   "outputs": [
    {
     "data": {
      "text/plain": [
       "0.9542559570539781"
      ]
     },
     "execution_count": 59,
     "metadata": {},
     "output_type": "execute_result"
    }
   ],
   "source": [
    "prices.GoldPrice.corr(prices.SilverPrice)"
   ]
  },
  {
   "cell_type": "code",
   "execution_count": 72,
   "metadata": {},
   "outputs": [],
   "source": [
    "prices['Year'] = prices.Month.str.split('-').str[1]"
   ]
  },
  {
   "cell_type": "code",
   "execution_count": 76,
   "metadata": {},
   "outputs": [],
   "source": [
    "prices_2008 = prices[prices.Year == '08']"
   ]
  },
  {
   "cell_type": "code",
   "execution_count": 78,
   "metadata": {},
   "outputs": [
    {
     "data": {
      "text/plain": [
       "0.009583757463369392"
      ]
     },
     "execution_count": 78,
     "metadata": {},
     "output_type": "execute_result"
    }
   ],
   "source": [
    "prices_2008.GoldPrice.corr(prices_2008.SilverPrice)"
   ]
  },
  {
   "cell_type": "code",
   "execution_count": 143,
   "metadata": {},
   "outputs": [],
   "source": [
    "currencies = pd.read_csv('../datasets/currencies.csv')"
   ]
  },
  {
   "cell_type": "code",
   "execution_count": 144,
   "metadata": {},
   "outputs": [
    {
     "name": "stdout",
     "output_type": "stream",
     "text": [
      "<class 'pandas.core.frame.DataFrame'>\n",
      "RangeIndex: 11 entries, 0 to 10\n",
      "Data columns (total 52 columns):\n",
      " #   Column                      Non-Null Count  Dtype  \n",
      "---  ------                      --------------  -----  \n",
      " 0   Currency                    11 non-null     object \n",
      " 1   Chinese Yuan                11 non-null     float64\n",
      " 2   Euro                        11 non-null     float64\n",
      " 3   Japanese Yen                10 non-null     float64\n",
      " 4   U.K. Pound Sterling         11 non-null     float64\n",
      " 5   U.S. Dollar                 11 non-null     float64\n",
      " 6   Algerian Dinar              9 non-null      float64\n",
      " 7   Australian Dollar           11 non-null     float64\n",
      " 8   Bahrain Dinar               11 non-null     float64\n",
      " 9   Botswana Pula               9 non-null      float64\n",
      " 10  Brazilian Real              11 non-null     float64\n",
      " 11  Brunei Dollar               10 non-null     float64\n",
      " 12  Canadian Dollar             10 non-null     float64\n",
      " 13  Chilean Peso                11 non-null     float64\n",
      " 14  Colombian Peso              11 non-null     object \n",
      " 15  Czech Koruna                8 non-null      float64\n",
      " 16  Danish Krone                11 non-null     float64\n",
      " 17  Hungarian Forint            11 non-null     float64\n",
      " 18  Icelandic Krona             11 non-null     float64\n",
      " 19  Indian Rupee                9 non-null      float64\n",
      " 20  Indonesian Rupiah           7 non-null      object \n",
      " 21  Iranian Rial                6 non-null      object \n",
      " 22  Israeli New Sheqel          11 non-null     float64\n",
      " 23  Kazakhstani Tenge           8 non-null      float64\n",
      " 24  Korean Won                  11 non-null     object \n",
      " 25  Kuwaiti Dinar               6 non-null      float64\n",
      " 26  Libyan Dinar                11 non-null     float64\n",
      " 27  Malaysian Ringgit           8 non-null      float64\n",
      " 28  Mauritian Rupee             9 non-null      float64\n",
      " 29  Mexican Peso                11 non-null     float64\n",
      " 30  Nepalese Rupee              11 non-null     float64\n",
      " 31  New Zealand Dollar          11 non-null     float64\n",
      " 32  Norwegian Krone             11 non-null     float64\n",
      " 33  Rial Omani                  11 non-null     float64\n",
      " 34  Pakistani Rupee             5 non-null      float64\n",
      " 35  Nuevo Sol                   7 non-null      float64\n",
      " 36  Philippine Peso             10 non-null     float64\n",
      " 37  Polish Zloty                11 non-null     float64\n",
      " 38  Qatar Riyal                 11 non-null     float64\n",
      " 39  Russian Ruble               10 non-null     float64\n",
      " 40  Saudi Arabian Riyal         11 non-null     float64\n",
      " 41  Singapore Dollar            10 non-null     float64\n",
      " 42  South African Rand          11 non-null     float64\n",
      " 43  Sri Lanka Rupee             10 non-null     float64\n",
      " 44  Swedish Krona               10 non-null     float64\n",
      " 45  Swiss Franc                 11 non-null     float64\n",
      " 46  Thai Baht                   9 non-null      float64\n",
      " 47  Trinidad And Tobago Dollar  10 non-null     float64\n",
      " 48  Tunisian Dinar              5 non-null      float64\n",
      " 49  U.A.E. Dirham               11 non-null     float64\n",
      " 50  Peso Uruguayo               6 non-null      float64\n",
      " 51  Bolivar Fuerte              11 non-null     float64\n",
      "dtypes: float64(47), object(5)\n",
      "memory usage: 4.6+ KB\n"
     ]
    }
   ],
   "source": [
    "currencies.info()"
   ]
  },
  {
   "cell_type": "code",
   "execution_count": 145,
   "metadata": {},
   "outputs": [],
   "source": [
    "currencies = currencies.drop(columns=['Currency'])"
   ]
  },
  {
   "cell_type": "code",
   "execution_count": 179,
   "metadata": {},
   "outputs": [],
   "source": [
    "currencies = currencies.map(lambda x: x if type(x) == float else float(x.replace(',','')))"
   ]
  },
  {
   "cell_type": "code",
   "execution_count": 182,
   "metadata": {},
   "outputs": [],
   "source": [
    "correlation_matrix = currencies.corr()"
   ]
  },
  {
   "cell_type": "code",
   "execution_count": 189,
   "metadata": {},
   "outputs": [
    {
     "data": {
      "text/plain": [
       "Indian Rupee                  1.000000\n",
       "Pakistani Rupee               0.991673\n",
       "Kuwaiti Dinar                 0.931099\n",
       "Botswana Pula                 0.930798\n",
       "Algerian Dinar                0.923232\n",
       "Australian Dollar             0.921475\n",
       "Indonesian Rupiah             0.907353\n",
       "Nepalese Rupee                0.897655\n",
       "South African Rand            0.897567\n",
       "Nuevo Sol                     0.877833\n",
       "Bahrain Dinar                 0.873195\n",
       "Bolivar Fuerte                0.873170\n",
       "Rial Omani                    0.873151\n",
       "Saudi Arabian Riyal           0.873101\n",
       "Qatar Riyal                   0.873075\n",
       "U.S. Dollar                   0.872862\n",
       "U.A.E. Dirham                 0.872859\n",
       "Sri Lanka Rupee               0.872443\n",
       "Thai Baht                     0.868087\n",
       "Malaysian Ringgit             0.840498\n",
       "Mauritian Rupee               0.835943\n",
       "Icelandic Krona               0.825889\n",
       "Brunei Dollar                 0.798249\n",
       "Singapore Dollar              0.798249\n",
       "Russian Ruble                 0.790276\n",
       "Iranian Rial                  0.784995\n",
       "Peso Uruguayo                 0.758479\n",
       "Hungarian Forint              0.754688\n",
       "Chilean Peso                  0.751085\n",
       "Mexican Peso                  0.657036\n",
       "Korean Won                    0.648851\n",
       "Czech Koruna                  0.611994\n",
       "Israeli New Sheqel            0.518196\n",
       "Polish Zloty                  0.474792\n",
       "New Zealand Dollar            0.444635\n",
       "Colombian Peso                0.372996\n",
       "U.K. Pound Sterling           0.314681\n",
       "Canadian Dollar               0.304291\n",
       "Chinese Yuan                  0.304050\n",
       "Danish Krone                  0.282445\n",
       "Euro                          0.243851\n",
       "Norwegian Krone              -0.019682\n",
       "Brazilian Real               -0.056475\n",
       "Philippine Peso              -0.057445\n",
       "Kazakhstani Tenge            -0.074799\n",
       "Trinidad And Tobago Dollar   -0.186861\n",
       "Swedish Krona                -0.186991\n",
       "Japanese Yen                 -0.270123\n",
       "Tunisian Dinar               -0.618041\n",
       "Swiss Franc                  -0.655866\n",
       "Libyan Dinar                       NaN\n",
       "Name: Indian Rupee, dtype: float64"
      ]
     },
     "execution_count": 189,
     "metadata": {},
     "output_type": "execute_result"
    }
   ],
   "source": [
    "correlation_matrix['Indian Rupee'].sort_values(ascending=False)"
   ]
  },
  {
   "cell_type": "code",
   "execution_count": 195,
   "metadata": {},
   "outputs": [],
   "source": [
    "JUS = correlation_matrix['Japanese Yen']['U.S. Dollar']\n",
    "AI = correlation_matrix['Australian Dollar']['Indian Rupee']\n",
    "JUK = correlation_matrix['Japanese Yen']['U.K. Pound Sterling']\n",
    "CE = correlation_matrix['Chinese Yuan']['Euro']"
   ]
  },
  {
   "cell_type": "code",
   "execution_count": 198,
   "metadata": {},
   "outputs": [
    {
     "name": "stdout",
     "output_type": "stream",
     "text": [
      "0.21029481387664484\n",
      "0.9214754518981321\n",
      "-0.970308318144789\n",
      "0.15159624624618137\n"
     ]
    }
   ],
   "source": [
    "print(JUS)\n",
    "print(AI)\n",
    "print(JUK)\n",
    "print(CE)"
   ]
  },
  {
   "cell_type": "code",
   "execution_count": 199,
   "metadata": {},
   "outputs": [],
   "source": [
    "cust_rating = pd.read_csv('https://media-doselect.s3.amazonaws.com/generic/GvOkzy5MLdy9zJ8vXMArwpRvN/rating_final.csv')\n",
    "cust_rating.info()\n",
    "cust_rating.head()\n",
    "cust_rating['avg_rating'] = round((cust_rating.rating + cust_rating.food_rating + cust_rating.service_rating) / 3)\n",
    "cust_rating"
   ]
  }
 ],
 "metadata": {
  "kernelspec": {
   "display_name": "base",
   "language": "python",
   "name": "python3"
  },
  "language_info": {
   "codemirror_mode": {
    "name": "ipython",
    "version": 3
   },
   "file_extension": ".py",
   "mimetype": "text/x-python",
   "name": "python",
   "nbconvert_exporter": "python",
   "pygments_lexer": "ipython3",
   "version": "3.11.7"
  }
 },
 "nbformat": 4,
 "nbformat_minor": 2
}
