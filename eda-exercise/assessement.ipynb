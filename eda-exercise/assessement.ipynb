{
 "cells": [
  {
   "cell_type": "code",
   "execution_count": 41,
   "metadata": {},
   "outputs": [],
   "source": [
    "import pandas as pd\n",
    "import numpy as nm\n",
    "import matplotlib.pyplot as plt"
   ]
  },
  {
   "cell_type": "code",
   "execution_count": 42,
   "metadata": {},
   "outputs": [
    {
     "data": {
      "text/html": [
       "<div>\n",
       "<style scoped>\n",
       "    .dataframe tbody tr th:only-of-type {\n",
       "        vertical-align: middle;\n",
       "    }\n",
       "\n",
       "    .dataframe tbody tr th {\n",
       "        vertical-align: top;\n",
       "    }\n",
       "\n",
       "    .dataframe thead th {\n",
       "        text-align: right;\n",
       "    }\n",
       "</style>\n",
       "<table border=\"1\" class=\"dataframe\">\n",
       "  <thead>\n",
       "    <tr style=\"text-align: right;\">\n",
       "      <th></th>\n",
       "      <th>submission</th>\n",
       "      <th>submit_time</th>\n",
       "    </tr>\n",
       "  </thead>\n",
       "  <tbody>\n",
       "    <tr>\n",
       "      <th>0</th>\n",
       "      <td>https://ckd.upgrad.com/UpGrad/73ba5189-94fd-44...</td>\n",
       "      <td>01/03/17-20:28:52</td>\n",
       "    </tr>\n",
       "    <tr>\n",
       "      <th>1</th>\n",
       "      <td>https://ckd.upgrad.com/UpGrad/185242ff-7508-4c...</td>\n",
       "      <td>01/03/17-20:18:21</td>\n",
       "    </tr>\n",
       "    <tr>\n",
       "      <th>2</th>\n",
       "      <td>https://ckd.upgrad.com/UpGrad/a353d129-c100-43...</td>\n",
       "      <td>01/03/17-22:37:08</td>\n",
       "    </tr>\n",
       "    <tr>\n",
       "      <th>3</th>\n",
       "      <td>https://ckd.upgrad.com/UpGrad/002fc912-faa1-49...</td>\n",
       "      <td>01/02/17-21:43:19</td>\n",
       "    </tr>\n",
       "    <tr>\n",
       "      <th>4</th>\n",
       "      <td>https://ckd.upgrad.com/UpGrad/25cbc4a4-6d49-4f...</td>\n",
       "      <td>01/03/17-15:27:49</td>\n",
       "    </tr>\n",
       "  </tbody>\n",
       "</table>\n",
       "</div>"
      ],
      "text/plain": [
       "                                          submission        submit_time\n",
       "0  https://ckd.upgrad.com/UpGrad/73ba5189-94fd-44...  01/03/17-20:28:52\n",
       "1  https://ckd.upgrad.com/UpGrad/185242ff-7508-4c...  01/03/17-20:18:21\n",
       "2  https://ckd.upgrad.com/UpGrad/a353d129-c100-43...  01/03/17-22:37:08\n",
       "3  https://ckd.upgrad.com/UpGrad/002fc912-faa1-49...  01/02/17-21:43:19\n",
       "4  https://ckd.upgrad.com/UpGrad/25cbc4a4-6d49-4f...  01/03/17-15:27:49"
      ]
     },
     "execution_count": 42,
     "metadata": {},
     "output_type": "execute_result"
    }
   ],
   "source": [
    "grades = pd.read_csv('../datasets/grades.csv')\n",
    "grades.head()"
   ]
  },
  {
   "cell_type": "code",
   "execution_count": 71,
   "metadata": {},
   "outputs": [
    {
     "data": {
      "text/plain": [
       "s_format\n",
       "zip    0.954545\n",
       "R      0.035354\n",
       "7z     0.010101\n",
       "Name: proportion, dtype: float64"
      ]
     },
     "execution_count": 71,
     "metadata": {},
     "output_type": "execute_result"
    }
   ],
   "source": [
    "grades['s_id'] = grades.submission.str.split('/').str[4]\n",
    "grades['s_format'] = grades.submission.str.split('/').str[5].str.split('.').str[1]\n",
    "grades['roll_id'] = grades.submission.str.split('/').str[5].str.split('.').str[0]\n",
    "grades.s_format.value_counts(normalize=True)"
   ]
  },
  {
   "cell_type": "code",
   "execution_count": 110,
   "metadata": {},
   "outputs": [],
   "source": [
    "grades['s_datetime'] = pd.to_datetime(grades['submit_time'], format='%m/%d/%y-%H:%M:%S')\n",
    "grades['s_fulldate'] = pd.to_datetime(grades['s_datetime'], format='%d/%m/%y').dt.date\n",
    "grades['s_fulltime'] = pd.to_datetime(grades['s_datetime'], format='%d/%m/%y').dt.time\n",
    "grades['s_date'] = pd.to_datetime(grades['s_datetime'], format='%d/%m/%y').dt.day\n",
    "grades['s_month'] = pd.to_datetime(grades['s_datetime'], format='%d/%m/%y').dt.month\n",
    "grades['s_year'] = pd.to_datetime(grades['s_datetime'], format='%d/%m/%y').dt.year\n",
    "grades['s_hour'] = pd.to_datetime(grades['s_datetime'], format='%d/%m/%y').dt.hour\n",
    "grades['s_minute'] = pd.to_datetime(grades['s_datetime'], format='%d/%m/%y').dt.minute\n",
    "grades['s_second'] = pd.to_datetime(grades['s_datetime'], format='%d/%m/%y').dt.second"
   ]
  },
  {
   "cell_type": "code",
   "execution_count": 111,
   "metadata": {},
   "outputs": [
    {
     "name": "stdout",
     "output_type": "stream",
     "text": [
      "<class 'pandas.core.frame.DataFrame'>\n",
      "Index: 44 entries, 5 to 196\n",
      "Data columns (total 18 columns):\n",
      " #   Column            Non-Null Count  Dtype         \n",
      "---  ------            --------------  -----         \n",
      " 0   submission        44 non-null     object        \n",
      " 1   submit_time       44 non-null     object        \n",
      " 2   s_date            44 non-null     int32         \n",
      " 3   s_time            44 non-null     object        \n",
      " 4   s_id              44 non-null     object        \n",
      " 5   s_format          44 non-null     object        \n",
      " 6   roll_id           44 non-null     object        \n",
      " 7   submission_date   44 non-null     int32         \n",
      " 8   submission_month  44 non-null     int32         \n",
      " 9   submission_year   44 non-null     int32         \n",
      " 10  s_datetime        44 non-null     datetime64[ns]\n",
      " 11  s_month           44 non-null     int32         \n",
      " 12  s_year            44 non-null     int32         \n",
      " 13  s_fulldate        44 non-null     object        \n",
      " 14  s_fulltime        44 non-null     object        \n",
      " 15  s_hour            44 non-null     int32         \n",
      " 16  s_minute          44 non-null     int32         \n",
      " 17  s_second          44 non-null     int32         \n",
      "dtypes: datetime64[ns](1), int32(9), object(8)\n",
      "memory usage: 5.0+ KB\n"
     ]
    }
   ],
   "source": [
    "grades[grades['s_datetime'] > '2017-01-03 23:59:59'].info()"
   ]
  },
  {
   "cell_type": "code",
   "execution_count": 112,
   "metadata": {},
   "outputs": [
    {
     "data": {
      "text/plain": [
       "s_fulldate\n",
       "2017-01-03    120\n",
       "2017-01-09     21\n",
       "2017-01-02     14\n",
       "2017-01-04     12\n",
       "2016-12-30      6\n",
       "2017-01-01      6\n",
       "2017-01-08      3\n",
       "2017-01-10      3\n",
       "2016-12-29      2\n",
       "2016-12-28      2\n",
       "2017-01-07      2\n",
       "2017-01-17      1\n",
       "2017-02-03      1\n",
       "2016-12-21      1\n",
       "2017-01-06      1\n",
       "2016-11-19      1\n",
       "2016-12-31      1\n",
       "2016-12-19      1\n",
       "Name: count, dtype: int64"
      ]
     },
     "execution_count": 112,
     "metadata": {},
     "output_type": "execute_result"
    }
   ],
   "source": [
    "grades.s_fulldate.value_counts()"
   ]
  },
  {
   "cell_type": "code",
   "execution_count": 113,
   "metadata": {},
   "outputs": [
    {
     "data": {
      "text/plain": [
       "s_hour\n",
       "23    66\n",
       "21    27\n",
       "22    24\n",
       "20    16\n",
       "0     10\n",
       "1      8\n",
       "14     6\n",
       "18     6\n",
       "13     6\n",
       "15     4\n",
       "17     4\n",
       "12     3\n",
       "10     3\n",
       "3      3\n",
       "19     2\n",
       "4      2\n",
       "16     2\n",
       "2      2\n",
       "6      1\n",
       "8      1\n",
       "11     1\n",
       "9      1\n",
       "Name: count, dtype: int64"
      ]
     },
     "execution_count": 113,
     "metadata": {},
     "output_type": "execute_result"
    }
   ],
   "source": [
    "grades.s_hour.value_counts()"
   ]
  }
 ],
 "metadata": {
  "kernelspec": {
   "display_name": "base",
   "language": "python",
   "name": "python3"
  },
  "language_info": {
   "codemirror_mode": {
    "name": "ipython",
    "version": 3
   },
   "file_extension": ".py",
   "mimetype": "text/x-python",
   "name": "python",
   "nbconvert_exporter": "python",
   "pygments_lexer": "ipython3",
   "version": "3.11.7"
  }
 },
 "nbformat": 4,
 "nbformat_minor": 2
}
